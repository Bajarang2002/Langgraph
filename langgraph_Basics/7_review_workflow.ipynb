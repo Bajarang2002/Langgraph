{
 "cells": [
  {
   "cell_type": "code",
   "execution_count": null,
   "id": "4c6b5017",
   "metadata": {},
   "outputs": [],
   "source": []
  },
  {
   "cell_type": "code",
   "execution_count": 2,
   "id": "b710429e",
   "metadata": {},
   "outputs": [],
   "source": [
    "from langchain_google_genai import ChatGoogleGenerativeAI\n",
    "from langgraph.graph import StateGraph,START,END\n",
    "from dotenv import load_dotenv\n",
    "from typing import TypedDict, Literal\n",
    "from pydantic import BaseModel,Field"
   ]
  },
  {
   "cell_type": "code",
   "execution_count": 3,
   "id": "cbb850e8",
   "metadata": {},
   "outputs": [
    {
     "data": {
      "text/plain": [
       "True"
      ]
     },
     "execution_count": 3,
     "metadata": {},
     "output_type": "execute_result"
    }
   ],
   "source": [
    "load_dotenv()"
   ]
  },
  {
   "cell_type": "code",
   "execution_count": 4,
   "id": "7c530c08",
   "metadata": {},
   "outputs": [],
   "source": [
    "model = ChatGoogleGenerativeAI(model= \"gemini-2.5-flash\")"
   ]
  },
  {
   "cell_type": "code",
   "execution_count": 6,
   "id": "1828026e",
   "metadata": {},
   "outputs": [],
   "source": [
    "class ReviewSchema(BaseModel):\n",
    "\n",
    "    sentiment : Literal['positive','negative'] = Field(description= \"Sentiment of the review\")\n",
    "\n",
    "\n",
    "class DiagnosisSchema(BaseModel):\n",
    "\n",
    "    issue_type: Literal[\"UX\", \"Performance\", \"Bug\", \"Support\", \"Other\"] = Field(description='The category of issue mentioned in the review')\n",
    "    tone: Literal[\"angry\", \"frustrated\", \"disappointed\", \"calm\"] = Field(description='The emotional tone expressed by the user')\n",
    "    urgency: Literal[\"low\", \"medium\", \"high\"] = Field(description='How urgent or critical the issue appears to be')"
   ]
  },
  {
   "cell_type": "code",
   "execution_count": 7,
   "id": "2c757c20",
   "metadata": {},
   "outputs": [],
   "source": [
    "structure_model = model.with_structured_output(ReviewSchema)\n",
    "structure_model2 = model.with_structured_output(DiagnosisSchema)"
   ]
  },
  {
   "cell_type": "code",
   "execution_count": 8,
   "id": "ab8fb4b9",
   "metadata": {},
   "outputs": [
    {
     "data": {
      "text/plain": [
       "'positive'"
      ]
     },
     "execution_count": 8,
     "metadata": {},
     "output_type": "execute_result"
    }
   ],
   "source": [
    "prompt = \" Find the sentiment of the provided review -The boys has too smart \"\n",
    "structure_model.invoke(prompt).sentiment"
   ]
  },
  {
   "cell_type": "markdown",
   "id": "ce941c1c",
   "metadata": {},
   "source": []
  },
  {
   "cell_type": "code",
   "execution_count": 9,
   "id": "7c60432c",
   "metadata": {},
   "outputs": [],
   "source": [
    "class ReviewState(TypedDict):\n",
    "\n",
    "    review:str\n",
    "    sentiment :Literal['positive','negative']\n",
    "    diagnosis : dict\n",
    "    response : str\n",
    "\n"
   ]
  },
  {
   "cell_type": "code",
   "execution_count": 10,
   "id": "7e34104f",
   "metadata": {},
   "outputs": [],
   "source": [
    "def find_sentiment(state:ReviewState):\n",
    "\n",
    "    prompt = f'find the sentiment of the following review \\n {state[\"review\"]}'\n",
    "    sentiment= structure_model.invoke(prompt).sentiment\n",
    "\n",
    "\n",
    "    return {'sentiment':sentiment}\n",
    "\n",
    "    "
   ]
  },
  {
   "cell_type": "code",
   "execution_count": 11,
   "id": "a728fe79",
   "metadata": {},
   "outputs": [],
   "source": [
    "def check_sentiment(state: ReviewState):\n",
    "\n",
    "    if state['sentiment']=='positive':\n",
    "        return 'positive_response'\n",
    "    \n",
    "    else:\n",
    "        return 'run_diagnosis'"
   ]
  },
  {
   "cell_type": "code",
   "execution_count": 12,
   "id": "512232fd",
   "metadata": {},
   "outputs": [],
   "source": [
    "def positive_response(state:ReviewState):\n",
    "\n",
    "    prompt = f\"\"\"Write a warm thank-you message in response to this review:\n",
    "    \\n\\n\\\"{state['review']}\\\"\\n\n",
    "     Also, kindly ask the user to leave feedback on our website.\"\"\"\n",
    "    \n",
    "    response = model.invoke(prompt).content\n",
    "\n",
    "    return {'response' :response}"
   ]
  },
  {
   "cell_type": "code",
   "execution_count": 13,
   "id": "397afe12",
   "metadata": {},
   "outputs": [],
   "source": [
    "def run_diagnosis(state:ReviewState):\n",
    "\n",
    "    prompt =  f\"\"\"Diagnose this negative review:\\n\\n{state['review']}\\n\"\n",
    "    \"Return issue_type, tone, and urgency.\n",
    "    \"\"\"\n",
    "    \n",
    "    response = structure_model2.invoke(prompt) \n",
    "    return {'diagnosis' :response.model_dump()} "
   ]
  },
  {
   "cell_type": "code",
   "execution_count": 14,
   "id": "13d2da79",
   "metadata": {},
   "outputs": [],
   "source": [
    "def negative_response(state:ReviewState):\n",
    "    diagnosis = state['diagnosis']\n",
    "    prompt =  f\"\"\"You are a support assistant.\n",
    "The user had a '{diagnosis['issue_type']}' issue, sounded '{diagnosis['tone']}', and marked urgency as '{diagnosis['urgency']}'.\n",
    "Write an empathetic, helpful resolution message.\"\"\"\n",
    "    \n",
    "    response = model.invoke(prompt)\n",
    "\n",
    "    return {'response': response }"
   ]
  },
  {
   "cell_type": "code",
   "execution_count": 15,
   "id": "036648c9",
   "metadata": {},
   "outputs": [],
   "source": [
    "graph =  StateGraph(ReviewState)"
   ]
  },
  {
   "cell_type": "code",
   "execution_count": 16,
   "id": "1d203568",
   "metadata": {},
   "outputs": [],
   "source": [
    "graph =  StateGraph(ReviewState)\n",
    "graph.add_node('find_sentiment', find_sentiment)\n",
    "graph.add_node('positive_response', positive_response)\n",
    "graph.add_node('run_diagnosis', run_diagnosis)\n",
    "graph.add_node('negative_response', negative_response)\n",
    "\n",
    "graph.add_edge(START, 'find_sentiment')\n",
    "\n",
    "graph.add_conditional_edges('find_sentiment', check_sentiment)\n",
    "\n",
    "graph.add_edge('positive_response', END)\n",
    "graph.add_edge('run_diagnosis', 'negative_response')\n",
    "graph.add_edge('negative_response', END)\n",
    "\n",
    "workflow = graph.compile()\n",
    "workflow = graph.compile()"
   ]
  },
  {
   "cell_type": "code",
   "execution_count": null,
   "id": "bb8415b6",
   "metadata": {},
   "outputs": [],
   "source": []
  },
  {
   "cell_type": "code",
   "execution_count": 17,
   "id": "1d358605",
   "metadata": {},
   "outputs": [
    {
     "data": {
      "image/png": "[encoded data removed]",
      "text/plain": [
       "<langgraph.graph.state.CompiledStateGraph object at 0x0000027C62DB52D0>"
      ]
     },
     "execution_count": 17,
     "metadata": {},
     "output_type": "execute_result"
    }
   ],
   "source": [
    "workflow"
   ]
  },
  {
   "cell_type": "code",
   "execution_count": 18,
   "id": "91da39fc",
   "metadata": {},
   "outputs": [
    {
     "name": "stdout",
     "output_type": "stream",
     "text": [
      "{'review': 'I’ve been trying to log in for over an hour now, and the app keeps freezing on the authentication screen. I even tried reinstalling it, but no luck. This kind of bug is unacceptable, especially when it affects basic functionality.', 'sentiment': 'negative', 'diagnosis': {'issue_type': 'Bug', 'tone': 'frustrated', 'urgency': 'high'}, 'response': AIMessage(content='Subject: Resolution: Your High-Priority Bug Report - [Briefly mention the bug area if known, e.g., \"Login Issue,\" \"Data Saving Error\"]\\n\\nDear [User\\'s Name, if known, or Valued User],\\n\\nI understand how incredibly frustrating it can be when a bug disrupts your work, especially when it\\'s a high-priority issue that needs immediate attention. Please accept our sincere apologies for the inconvenience and stress this has caused you.\\n\\nI\\'m happy to inform you that our technical team has thoroughly investigated the bug you reported and has successfully deployed a fix. We identified the root cause and implemented a solution to ensure this issue is resolved and to prevent its recurrence.\\n\\nTo confirm the resolution, could you please take a moment to log back in and verify that everything is now working as expected on your end?\\n\\nYour detailed report and patience were incredibly helpful in allowing us to address this quickly.\\n\\nIf you encounter any further issues, or if anything doesn\\'t look quite right, please don\\'t hesitate to reply to this message or open a new ticket. We\\'re here to ensure your experience is smooth and hassle-free.\\n\\nThank you for your understanding and continued patience.\\n\\nBest regards,\\n\\n[Your Name/Support Team Name]\\n[Your Company Name]', additional_kwargs={}, response_metadata={'prompt_feedback': {'block_reason': 0, 'safety_ratings': []}, 'finish_reason': 'STOP', 'model_name': 'gemini-2.5-flash', 'safety_ratings': []}, id='run--31d35499-2b98-4e0f-8626-8c51883dbfc1-0', usage_metadata={'input_tokens': 38, 'output_tokens': 1449, 'total_tokens': 1487, 'input_token_details': {'cache_read': 0}, 'output_token_details': {'reasoning': 1182}})}\n"
     ]
    }
   ],
   "source": [
    "intial_state = {'review': \"I’ve been trying to log in for over an hour now, and the app keeps freezing on the authentication screen. I even tried reinstalling it, but no luck. This kind of bug is unacceptable, especially when it affects basic functionality.\"}\n",
    "\n",
    "result = workflow.invoke(intial_state)\n",
    "print(result)"
   ]
  },
  {
   "cell_type": "code",
   "execution_count": null,
   "id": "d5b39216",
   "metadata": {},
   "outputs": [],
   "source": []
  },
  {
   "cell_type": "code",
   "execution_count": 19,
   "id": "429a905b",
   "metadata": {},
   "outputs": [
    {
     "data": {
      "text/plain": [
       "'I’ve been trying to log in for over an hour now, and the app keeps freezing on the authentication screen. I even tried reinstalling it, but no luck. This kind of bug is unacceptable, especially when it affects basic functionality.'"
      ]
     },
     "execution_count": 19,
     "metadata": {},
     "output_type": "execute_result"
    }
   ],
   "source": [
    "intial_state['review']"
   ]
  },
  {
   "cell_type": "code",
   "execution_count": null,
   "id": "a80e4a3c",
   "metadata": {},
   "outputs": [],
   "source": []
  },
  {
   "cell_type": "code",
   "execution_count": null,
   "id": "42c0afea",
   "metadata": {},
   "outputs": [],
   "source": []
  }
 ],
 "metadata": {
  "kernelspec": {
   "display_name": "myenv",
   "language": "python",
   "name": "python3"
  },
  "language_info": {
   "codemirror_mode": {
    "name": "ipython",
    "version": 3
   },
   "file_extension": ".py",
   "mimetype": "text/x-python",
   "name": "python",
   "nbconvert_exporter": "python",
   "pygments_lexer": "ipython3",
   "version": "3.11.3"
  }
 },
 "nbformat": 4,
 "nbformat_minor": 5
}
