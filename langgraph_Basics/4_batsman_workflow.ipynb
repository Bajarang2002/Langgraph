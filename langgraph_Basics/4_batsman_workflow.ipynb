{
 "cells": [
  {
   "cell_type": "code",
   "execution_count": 90,
   "id": "d6b4ad18",
   "metadata": {},
   "outputs": [],
   "source": [
    "from langchain_google_genai import ChatGoogleGenerativeAI\n",
    "from langgraph.graph import StateGraph,START,END\n",
    "from typing import TypedDict\n",
    "from dotenv import load_dotenv"
   ]
  },
  {
   "cell_type": "code",
   "execution_count": 91,
   "id": "fd30ef65",
   "metadata": {},
   "outputs": [
    {
     "data": {
      "text/plain": [
       "True"
      ]
     },
     "execution_count": 91,
     "metadata": {},
     "output_type": "execute_result"
    }
   ],
   "source": [
    "load_dotenv()"
   ]
  },
  {
   "cell_type": "code",
   "execution_count": 92,
   "id": "10733624",
   "metadata": {},
   "outputs": [],
   "source": [
    "model = ChatGoogleGenerativeAI(model ='gemini-2.5-flash')"
   ]
  },
  {
   "cell_type": "code",
   "execution_count": 93,
   "id": "1bb15538",
   "metadata": {},
   "outputs": [],
   "source": [
    "class llm_state(TypedDict):\n",
    "\n",
    "    runs :int\n",
    "    balls : int\n",
    "    fours :int\n",
    "    sixes:int\n",
    "\n",
    "    sr:float\n",
    "    bpb : float\n",
    "    boundry_percent :float\n",
    "    summary :str\n"
   ]
  },
  {
   "cell_type": "code",
   "execution_count": 103,
   "id": "26fa104b",
   "metadata": {},
   "outputs": [],
   "source": [
    "def calculate_sr(state:llm_state):\n",
    "    sr = (state['runs']/state['balls'])*100\n",
    "    \n",
    "    return {'sr':sr}"
   ]
  },
  {
   "cell_type": "code",
   "execution_count": 104,
   "id": "d3ecf337",
   "metadata": {},
   "outputs": [],
   "source": [
    "def balls_per_boundry(state:llm_state):\n",
    "\n",
    "    bpb = state['balls']/(state['fours']+state['sixes'])\n",
    "    return {'bpb': bpb}\n",
    "\n"
   ]
  },
  {
   "cell_type": "code",
   "execution_count": 112,
   "id": "2222f7ba",
   "metadata": {},
   "outputs": [],
   "source": [
    "def boundry_percentage(state:llm_state):\n",
    "\n",
    "    boundry_percent = (((state['fours']*4)+(state['sixes']*6))/state['runs'])*100\n",
    "    return {'boundry_percent': boundry_percent}\n",
    "\n"
   ]
  },
  {
   "cell_type": "code",
   "execution_count": 121,
   "id": "b723f703",
   "metadata": {},
   "outputs": [],
   "source": [
    "def  summary(state:llm_state):\n",
    "    summary = f\"\"\"\n",
    "strike_rate - {state['sr']} \\n\n",
    "Balls per boundry- {state['bpb']} \\n\n",
    "Boundry_percent - { state['boundry_percent']}\"\"\"\n",
    "    \n",
    "    return {'summary':summary}"
   ]
  },
  {
   "cell_type": "code",
   "execution_count": 122,
   "id": "8b2a1bdc",
   "metadata": {},
   "outputs": [],
   "source": [
    "graph = StateGraph(llm_state)"
   ]
  },
  {
   "cell_type": "code",
   "execution_count": 123,
   "id": "300d026a",
   "metadata": {},
   "outputs": [
    {
     "data": {
      "text/plain": [
       "<langgraph.graph.state.StateGraph at 0x1be5d674090>"
      ]
     },
     "execution_count": 123,
     "metadata": {},
     "output_type": "execute_result"
    }
   ],
   "source": [
    "graph.add_node('calculate_sr', calculate_sr)\n",
    "graph.add_node('balls_per_boundry',balls_per_boundry)\n",
    "graph.add_node('boundry_percentage', boundry_percentage)\n",
    "graph.add_node('summary',summary)\n",
    "\n",
    "\n",
    "graph.add_edge(START,'calculate_sr')\n",
    "graph.add_edge(START,'balls_per_boundry')\n",
    "graph.add_edge(START,'boundry_percentage')\n",
    "\n",
    "graph.add_edge('calculate_sr','summary')\n",
    "graph.add_edge('balls_per_boundry','summary')\n",
    "graph.add_edge('boundry_percentage','summary')\n",
    "\n",
    "graph.add_edge('summary',END)"
   ]
  },
  {
   "cell_type": "code",
   "execution_count": 124,
   "id": "8a8cc001",
   "metadata": {},
   "outputs": [],
   "source": [
    "workflow = graph.compile()"
   ]
  },
  {
   "cell_type": "code",
   "execution_count": 125,
   "id": "9f6e26d5",
   "metadata": {},
   "outputs": [
    {
     "data": {
      "image/png": "[encoded data removed]",
      "text/plain": [
       "<langgraph.graph.state.CompiledStateGraph object at 0x000001BE5D7D0A50>"
      ]
     },
     "execution_count": 125,
     "metadata": {},
     "output_type": "execute_result"
    }
   ],
   "source": [
    "workflow"
   ]
  },
  {
   "cell_type": "code",
   "execution_count": 126,
   "id": "39280eb6",
   "metadata": {},
   "outputs": [
    {
     "name": "stdout",
     "output_type": "stream",
     "text": [
      "{'runs': 100, 'balls': 50, 'fours': 6, 'sixes': 6, 'sr': 200.0, 'bpb': 4.166666666666667, 'boundry_percent': 60.0, 'summary': '\\nstrike_rate - 200.0 \\n\\nBalls per boundry- 4.166666666666667 \\n\\nBoundry_percent - 60.0'}\n"
     ]
    }
   ],
   "source": [
    "intial_state = {'runs':100,'balls':50,'fours':6,'sixes':6}\n",
    "\n",
    "final_state = workflow.invoke(intial_state)\n",
    "print(final_state)"
   ]
  },
  {
   "cell_type": "code",
   "execution_count": null,
   "id": "7321c2fd",
   "metadata": {},
   "outputs": [],
   "source": []
  },
  {
   "cell_type": "code",
   "execution_count": null,
   "id": "e8a1ff65",
   "metadata": {},
   "outputs": [],
   "source": []
  },
  {
   "cell_type": "code",
   "execution_count": null,
   "id": "b5108f9d",
   "metadata": {},
   "outputs": [],
   "source": []
  },
  {
   "cell_type": "code",
   "execution_count": null,
   "id": "91f12e90",
   "metadata": {},
   "outputs": [],
   "source": []
  },
  {
   "cell_type": "code",
   "execution_count": null,
   "id": "3836648d",
   "metadata": {},
   "outputs": [],
   "source": []
  },
  {
   "cell_type": "code",
   "execution_count": null,
   "id": "122155d0",
   "metadata": {},
   "outputs": [],
   "source": []
  },
  {
   "cell_type": "code",
   "execution_count": null,
   "id": "bea75f38",
   "metadata": {},
   "outputs": [],
   "source": []
  }
 ],
 "metadata": {
  "kernelspec": {
   "display_name": "myenv",
   "language": "python",
   "name": "python3"
  },
  "language_info": {
   "codemirror_mode": {
    "name": "ipython",
    "version": 3
   },
   "file_extension": ".py",
   "mimetype": "text/x-python",
   "name": "python",
   "nbconvert_exporter": "python",
   "pygments_lexer": "ipython3",
   "version": "3.11.3"
  }
 },
 "nbformat": 4,
 "nbformat_minor": 5
}
