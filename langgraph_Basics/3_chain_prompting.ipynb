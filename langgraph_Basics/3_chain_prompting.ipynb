{
 "cells": [
  {
   "cell_type": "code",
   "execution_count": 2,
   "id": "03851182",
   "metadata": {},
   "outputs": [],
   "source": [
    "from langchain_google_genai import ChatGoogleGenerativeAI\n",
    "from langgraph.graph import StateGraph,START,END\n",
    "from dotenv import load_dotenv\n",
    "from typing import TypedDict"
   ]
  },
  {
   "cell_type": "code",
   "execution_count": 3,
   "id": "31fea510",
   "metadata": {},
   "outputs": [
    {
     "data": {
      "text/plain": [
       "True"
      ]
     },
     "execution_count": 3,
     "metadata": {},
     "output_type": "execute_result"
    }
   ],
   "source": [
    "load_dotenv()"
   ]
  },
  {
   "cell_type": "code",
   "execution_count": 4,
   "id": "843154b0",
   "metadata": {},
   "outputs": [],
   "source": [
    "model = ChatGoogleGenerativeAI(model=\"gemini-2.5-flash\")"
   ]
  },
  {
   "cell_type": "code",
   "execution_count": 5,
   "id": "013337df",
   "metadata": {},
   "outputs": [],
   "source": [
    "# Create State\n",
    "\n",
    "class llm_blog(TypedDict):\n",
    "\n",
    "    title:str\n",
    "    outline:str\n",
    "    content:str\n",
    "\n"
   ]
  },
  {
   "cell_type": "code",
   "execution_count": 6,
   "id": "9eb982a8",
   "metadata": {},
   "outputs": [],
   "source": [
    "#Create function\n",
    "\n",
    "def blog_outline(state:llm_blog )->llm_blog:\n",
    "\n",
    "    title = state['title']\n",
    "\n",
    "    prompt = f\"Generate the blog outline on the provided topic {title}\"\n",
    "\n",
    "    outline = model.invoke(prompt)\n",
    "\n",
    "    state['outline'] = outline\n",
    "\n",
    "    return state\n"
   ]
  },
  {
   "cell_type": "code",
   "execution_count": 7,
   "id": "583d4aa0",
   "metadata": {},
   "outputs": [],
   "source": [
    "def blog_content(state : llm_blog)->llm_blog:\n",
    "\n",
    "    title = state['title']\n",
    "    outline = state['outline']\n",
    "\n",
    "    prompt = f\"Generate the blog content on the provided topic{title} based on the outline {outline}\"\n",
    "\n",
    "    content = model.invoke(prompt)\n",
    "\n",
    "    state['content'] = content\n",
    "\n",
    "    return state"
   ]
  },
  {
   "cell_type": "code",
   "execution_count": 8,
   "id": "1a5ff10c",
   "metadata": {},
   "outputs": [
    {
     "data": {
      "text/plain": [
       "<langgraph.graph.state.StateGraph at 0x1a810378650>"
      ]
     },
     "execution_count": 8,
     "metadata": {},
     "output_type": "execute_result"
    }
   ],
   "source": [
    "graph = StateGraph(llm_blog)\n",
    "\n",
    "graph.add_node('blog_outline', blog_outline)\n",
    "graph.add_node('blog_content',blog_content)\n",
    "\n",
    "graph.add_edge(START,'blog_outline')\n",
    "graph.add_edge('blog_outline','blog_content')\n",
    "graph.add_edge('blog_content',END)"
   ]
  },
  {
   "cell_type": "code",
   "execution_count": 9,
   "id": "f3db8705",
   "metadata": {},
   "outputs": [],
   "source": [
    "workflow = graph.compile()"
   ]
  },
  {
   "cell_type": "code",
   "execution_count": 11,
   "id": "f760abe3",
   "metadata": {},
   "outputs": [
    {
     "name": "stdout",
     "output_type": "stream",
     "text": [
      "{'title': 'Impact of AI on jobs', 'outline': AIMessage(content='Here\\'s a comprehensive blog outline on the \"Impact of AI on Jobs,\" designed to be engaging, informative, and balanced.\\n\\n---\\n\\n## Blog Outline: The AI Revolution: Navigating its Impact on Jobs – Threat or Opportunity?\\n\\n**Target Audience:** Professionals, students, educators, policymakers, anyone interested in the future of work.\\n**Tone:** Informative, balanced, forward-looking, slightly urgent but optimistic about adaptation.\\n\\n---\\n\\n### **I. Catchy Title Options:**\\n\\n*   The AI Revolution: Navigating its Impact on Jobs – Threat or Opportunity?\\n*   AI and the Future of Work: Are You Ready for the Transformation?\\n*   Beyond Automation: How AI is Reshaping the Global Job Market\\n*   Decoding the AI Effect: Job Losses, New Roles, and Essential Skills\\n\\n### **II. Introduction (Approx. 150-200 words)**\\n\\n*   **Hook:** Start with the current buzz around AI (ChatGPT, DALL-E, etc.) and the palpable excitement/anxiety it generates.\\n*   **Brief Definition of AI:** What is AI in the context of its impact on work (automation, learning, decision-making).\\n*   **Thesis Statement:** AI is not just a technological advancement; it\\'s a fundamental force reshaping the job market, presenting both significant challenges (job displacement) and unprecedented opportunities (new roles, enhanced productivity).\\n*   **Acknowledge the Debate:** Briefly mention the \"doom and gloom\" vs. \"unbridled optimism\" perspectives.\\n*   **Roadmap:** Briefly state what the blog post will cover (displacement, creation, augmentation, adaptation).\\n\\n### **III. The Fear Factor: Job Displacement and Automation (Approx. 250-300 words)**\\n\\n*   **A. Automation of Routine and Repetitive Tasks:**\\n    *   **Concept:** AI excels at tasks that are predictable, data-intensive, and rule-based.\\n    *   **Examples:** Manufacturing (assembly lines), data entry, basic customer service (chatbots), accounting (reconciliation), truck driving (autonomous vehicles).\\n*   **B. Impact on Mid-Skill Jobs:**\\n    *   **Concept:** AI can perform tasks previously requiring human judgment, affecting roles in administration, legal research, financial analysis, etc.\\n    *   **Examples:** Paralegals using AI for document review, financial analysts using AI for market predictions.\\n*   **C. Industries Most Susceptible (Short-term):**\\n    *   Transportation, Manufacturing, Administrative Support, Retail, Customer Service.\\n*   **D. The \"Hollowing Out\" Effect:**\\n    *   Briefly discuss the potential for a shrinking middle class if not managed.\\n\\n### **IV. The Silver Lining: Job Creation and Augmentation (Approx. 300-350 words)**\\n\\n*   **A. Emergence of New Job Roles:**\\n    *   **Concept:** AI creates entirely new industries and specialized roles that didn\\'t exist before.\\n    *   **Examples:** AI Developers, Machine Learning Engineers, Data Scientists, AI Ethicists, Prompt Engineers, AI Trainers, Robotics Engineers, AI UX Designers.\\n*   **B. AI as an Augmentation Tool (Human-AI Collaboration):**\\n    *   **Concept:** AI doesn\\'t replace humans but enhances their capabilities, allowing them to focus on higher-value tasks.\\n    *   **Examples:** Doctors using AI for diagnostics, lawyers using AI for case research, architects using AI for design optimization, creatives using AI for idea generation.\\n    *   **Benefits:** Increased productivity, efficiency, improved decision-making, reduced human error.\\n*   **C. Focus on \"Human-Centric\" Skills:**\\n    *   **Concept:** As AI handles routine tasks, uniquely human skills become more valuable.\\n    *   **Examples:** Creativity, critical thinking, emotional intelligence, complex problem-solving, collaboration, communication, negotiation, leadership.\\n*   **D. Growth in \"Care\" and \"Experience\" Economies:**\\n    *   Roles requiring empathy, personal interaction, and bespoke experiences (healthcare, education, arts, hospitality).\\n\\n### **V. The Shifting Landscape: Skills, Education, and Adaptation (Approx. 250-300 words)**\\n\\n*   **A. The Upskilling and Reskilling Imperative:**\\n    *   **Concept:** Lifelong learning is no longer a luxury but a necessity.\\n    *   **Strategies:** Online courses, vocational training, company-sponsored programs, micro-credentials.\\n*   **B. In-Demand Skills for the AI Era:**\\n    *   Digital literacy, data fluency, AI literacy (understanding AI\\'s capabilities and limitations), adaptability, continuous learning mindset.\\n*   **C. Role of Education Systems:**\\n    *   Integrating AI literacy into curricula from early stages.\\n    *   Emphasizing critical thinking and problem-solving over rote memorization.\\n    *   Fostering interdisciplinary learning.\\n*   **D. Government and Policy Responses:**\\n    *   Investment in retraining programs, social safety nets (e.g., discussions around UBI), ethical guidelines for AI deployment, fostering innovation.\\n*   **E. Business Strategy:**\\n    *   Investing in human capital, creating hybrid human-AI teams, fostering a culture of continuous learning and experimentation.\\n\\n### **VI. Conclusion (Approx. 100-150 words)**\\n\\n*   **Recap:** Reiterate that AI\\'s impact is complex – both disruptive and transformative. It\\'s not just about job losses, but also about job evolution and creation.\\n*   **Emphasize Adaptation:** The future workforce will be defined by its ability to adapt, learn, and collaborate with intelligent machines.\\n*   **Forward-Looking Statement:** AI is a tool, and its ultimate impact depends on how we choose to develop and integrate it into our society and economy.\\n*   **Call to Action/Thought-Provoking Question:** How will *you* prepare for the AI-driven workforce? What steps should individuals, businesses, and governments take to ensure a prosperous and equitable future of work?\\n\\n---', additional_kwargs={}, response_metadata={'prompt_feedback': {'block_reason': 0, 'safety_ratings': []}, 'finish_reason': 'STOP', 'model_name': 'gemini-2.5-flash', 'safety_ratings': []}, id='run--035a7fc7-0811-4b1f-b40c-68f818a5366e-0', usage_metadata={'input_tokens': 14, 'output_tokens': 2652, 'total_tokens': 2666, 'input_token_details': {'cache_read': 0}, 'output_token_details': {'reasoning': 1349}}), 'content': AIMessage(content='Here\\'s the blog content based on the comprehensive outline provided:\\n\\n---\\n\\n## The AI Revolution: Navigating its Impact on Jobs – Threat or Opportunity?\\n\\nIn recent months, the world has been captivated by the rapid advancements in Artificial Intelligence. From the conversational prowess of ChatGPT to the artistic wonders of DALL-E, AI is no longer a futuristic concept but a tangible force reshaping our daily lives and, critically, our professional landscapes. At its core, AI in the context of work refers to systems that can automate tasks, learn from data, and make decisions, often exceeding human speed and scale.\\n\\nThis isn\\'t merely another technological upgrade; it\\'s a fundamental shift poised to redefine the global job market. AI presents both significant challenges, notably the potential for job displacement, and unprecedented opportunities, including the creation of entirely new roles and enhanced productivity across industries. While some foresee a future of widespread unemployment and economic disruption, others champion AI as the key to a more efficient and prosperous world. This blog post aims to navigate this complex debate, exploring how AI is leading to job displacement, fostering new job creation, augmenting human capabilities, and demanding a proactive approach to skills and adaptation.\\n\\n### The Fear Factor: Job Displacement and Automation\\n\\nThe most immediate concern surrounding AI\\'s rise is its potential to automate tasks, leading to job displacement. AI excels at tasks that are predictable, data-intensive, and rule-based, making certain roles particularly susceptible.\\n\\n**Automation of Routine and Repetitive Tasks:** AI\\'s strength lies in its ability to handle high volumes of structured work with precision. We\\'ve seen this manifest in manufacturing, where robotic arms handle assembly lines with increasing autonomy. Similarly, data entry, basic customer service (through sophisticated chatbots), and even routine accounting functions like reconciliation are increasingly being managed by AI systems. The advent of autonomous vehicles, for instance, signals a significant impact on truck driving and other transportation roles.\\n\\n**Impact on Mid-Skill Jobs:** Alarmingly, AI\\'s capabilities extend beyond manual labor. It can now perform tasks previously requiring human judgment, affecting roles in administration, legal research, and financial analysis. Paralegals are leveraging AI for rapid document review, while financial analysts use AI for complex market predictions, potentially reducing the need for large human teams for these specific tasks.\\n\\n**Industries Most Susceptible (Short-term):** In the immediate future, sectors like Transportation, Manufacturing, Administrative Support, Retail, and Customer Service are expected to experience the most significant transformations due to AI adoption. This raises concerns about a \"hollowing out\" effect, where the middle class, often reliant on these mid-skill roles, could shrink if adequate transition strategies are not in place.\\n\\n### The Silver Lining: Job Creation and Augmentation\\n\\nWhile job displacement is a valid concern, it\\'s only one side of the coin. AI is also a powerful engine for job creation and a tool for augmenting human capabilities, leading to increased productivity and new opportunities.\\n\\n**Emergence of New Job Roles:** The very development and deployment of AI technology necessitate entirely new industries and specialized roles that didn\\'t exist a decade ago. We\\'re seeing a surge in demand for AI Developers, Machine Learning Engineers, and Data Scientists who build and manage these intelligent systems. Newer roles like AI Ethicists, Prompt Engineers (who specialize in crafting effective AI inputs), AI Trainers (who refine AI models), Robotics Engineers, and AI UX Designers are becoming crucial for integrating AI seamlessly and responsibly into society.\\n\\n**AI as an Augmentation Tool (Human-AI Collaboration):** Perhaps the most transformative aspect of AI is its role not as a replacement, but as an enhancement. AI can empower humans to achieve more by handling tedious or complex computations, allowing people to focus on higher-value tasks. Doctors can use AI for faster, more accurate diagnostics; lawyers can leverage AI for comprehensive case research; architects can optimize designs with AI\\'s generative capabilities; and creatives can use AI for idea generation, serving as a powerful co-pilot. This collaboration leads to increased productivity, enhanced efficiency, improved decision-making, and a reduction in human error.\\n\\n**Focus on \"Human-Centric\" Skills:** As AI takes over routine and analytical tasks, uniquely human skills become even more valuable. These are abilities that AI currently struggles to replicate: creativity, critical thinking, emotional intelligence, complex problem-solving, nuanced collaboration, persuasive communication, negotiation, and leadership. These \"soft skills\" will be the bedrock of the future workforce, distinguishing human contributions from machine capabilities.\\n\\n**Growth in \"Care\" and \"Experience\" Economies:** Furthermore, roles requiring empathy, personal interaction, and bespoke experiences are poised for growth. Sectors like healthcare, education, the arts, and hospitality, which rely heavily on human connection and personalized service, will likely see increased demand as AI handles more transactional aspects of life.\\n\\n### The Shifting Landscape: Skills, Education, and Adaptation\\n\\nNavigating this evolving landscape requires a proactive and strategic approach from individuals, educational institutions, governments, and businesses alike.\\n\\n**The Upskilling and Reskilling Imperative:** Lifelong learning is no longer a buzzword but a fundamental necessity. Individuals must continuously update their skills to remain relevant. This can be achieved through various strategies, including online courses, vocational training programs, company-sponsored learning initiatives, and micro-credentials that certify specific competencies.\\n\\n**In-Demand Skills for the AI Era:** Beyond traditional expertise, a new set of skills is becoming critical. Digital literacy is foundational, coupled with data fluency – the ability to understand and interpret data. Crucially, AI literacy, which involves understanding AI\\'s capabilities and limitations, ethical implications, and how to effectively collaborate with AI tools, will be paramount. Above all, adaptability and a continuous learning mindset will be the ultimate differentiators.\\n\\n**Role of Education Systems:** Education systems must evolve to prepare the next generation. This involves integrating AI literacy into curricula from early stages, shifting emphasis from rote memorization to fostering critical thinking and complex problem-solving. Encouraging interdisciplinary learning will also be vital, as AI often blurs traditional subject boundaries.\\n\\n**Government and Policy Responses:** Governments have a crucial role in managing this transition. This includes significant investment in retraining programs for displaced workers, exploring social safety nets (like discussions around Universal Basic Income) to cushion economic shocks, establishing ethical guidelines for AI development and deployment, and fostering an environment conducive to innovation and job creation.\\n\\n**Business Strategy:** Businesses must also adapt their strategies. This means investing in their human capital, not just technology. Creating hybrid human-AI teams that leverage the strengths of both will be key. Fostering a culture of continuous learning and experimentation within organizations will ensure agility and resilience in the face of rapid technological change.\\n\\n### Conclusion\\n\\nThe impact of AI on jobs is undeniably complex, presenting both profound disruption and incredible transformative potential. It\\'s crucial to understand that AI\\'s influence isn\\'t solely about job losses but more significantly about job evolution and the creation of entirely new opportunities. The future workforce will be defined not by its ability to compete against intelligent machines, but by its capacity to adapt, learn new skills, and collaborate seamlessly with them.\\n\\nUltimately, AI is a powerful tool, and its ultimate impact will depend on how we collectively choose to develop, regulate, and integrate it into our society and economy. The question isn\\'t whether AI will change work, but rather: How will *you* prepare for the AI-driven workforce? What steps should individuals, businesses, and governments take now to ensure a prosperous and equitable future of work for all? The time to act and adapt is now.', additional_kwargs={}, response_metadata={'prompt_feedback': {'block_reason': 0, 'safety_ratings': []}, 'finish_reason': 'STOP', 'model_name': 'gemini-2.5-flash', 'safety_ratings': []}, id='run--24882abf-2073-46aa-bed8-f62ba9c57b5a-0', usage_metadata={'input_tokens': 1546, 'output_tokens': 2473, 'total_tokens': 4019, 'input_token_details': {'cache_read': 0}, 'output_token_details': {'reasoning': 914}})}\n"
     ]
    },
    {
     "data": {
      "text/plain": [
       "AIMessage(content='Here\\'s a comprehensive blog outline on the \"Impact of AI on Jobs,\" designed to be engaging, informative, and balanced.\\n\\n---\\n\\n## Blog Outline: The AI Revolution: Navigating its Impact on Jobs – Threat or Opportunity?\\n\\n**Target Audience:** Professionals, students, educators, policymakers, anyone interested in the future of work.\\n**Tone:** Informative, balanced, forward-looking, slightly urgent but optimistic about adaptation.\\n\\n---\\n\\n### **I. Catchy Title Options:**\\n\\n*   The AI Revolution: Navigating its Impact on Jobs – Threat or Opportunity?\\n*   AI and the Future of Work: Are You Ready for the Transformation?\\n*   Beyond Automation: How AI is Reshaping the Global Job Market\\n*   Decoding the AI Effect: Job Losses, New Roles, and Essential Skills\\n\\n### **II. Introduction (Approx. 150-200 words)**\\n\\n*   **Hook:** Start with the current buzz around AI (ChatGPT, DALL-E, etc.) and the palpable excitement/anxiety it generates.\\n*   **Brief Definition of AI:** What is AI in the context of its impact on work (automation, learning, decision-making).\\n*   **Thesis Statement:** AI is not just a technological advancement; it\\'s a fundamental force reshaping the job market, presenting both significant challenges (job displacement) and unprecedented opportunities (new roles, enhanced productivity).\\n*   **Acknowledge the Debate:** Briefly mention the \"doom and gloom\" vs. \"unbridled optimism\" perspectives.\\n*   **Roadmap:** Briefly state what the blog post will cover (displacement, creation, augmentation, adaptation).\\n\\n### **III. The Fear Factor: Job Displacement and Automation (Approx. 250-300 words)**\\n\\n*   **A. Automation of Routine and Repetitive Tasks:**\\n    *   **Concept:** AI excels at tasks that are predictable, data-intensive, and rule-based.\\n    *   **Examples:** Manufacturing (assembly lines), data entry, basic customer service (chatbots), accounting (reconciliation), truck driving (autonomous vehicles).\\n*   **B. Impact on Mid-Skill Jobs:**\\n    *   **Concept:** AI can perform tasks previously requiring human judgment, affecting roles in administration, legal research, financial analysis, etc.\\n    *   **Examples:** Paralegals using AI for document review, financial analysts using AI for market predictions.\\n*   **C. Industries Most Susceptible (Short-term):**\\n    *   Transportation, Manufacturing, Administrative Support, Retail, Customer Service.\\n*   **D. The \"Hollowing Out\" Effect:**\\n    *   Briefly discuss the potential for a shrinking middle class if not managed.\\n\\n### **IV. The Silver Lining: Job Creation and Augmentation (Approx. 300-350 words)**\\n\\n*   **A. Emergence of New Job Roles:**\\n    *   **Concept:** AI creates entirely new industries and specialized roles that didn\\'t exist before.\\n    *   **Examples:** AI Developers, Machine Learning Engineers, Data Scientists, AI Ethicists, Prompt Engineers, AI Trainers, Robotics Engineers, AI UX Designers.\\n*   **B. AI as an Augmentation Tool (Human-AI Collaboration):**\\n    *   **Concept:** AI doesn\\'t replace humans but enhances their capabilities, allowing them to focus on higher-value tasks.\\n    *   **Examples:** Doctors using AI for diagnostics, lawyers using AI for case research, architects using AI for design optimization, creatives using AI for idea generation.\\n    *   **Benefits:** Increased productivity, efficiency, improved decision-making, reduced human error.\\n*   **C. Focus on \"Human-Centric\" Skills:**\\n    *   **Concept:** As AI handles routine tasks, uniquely human skills become more valuable.\\n    *   **Examples:** Creativity, critical thinking, emotional intelligence, complex problem-solving, collaboration, communication, negotiation, leadership.\\n*   **D. Growth in \"Care\" and \"Experience\" Economies:**\\n    *   Roles requiring empathy, personal interaction, and bespoke experiences (healthcare, education, arts, hospitality).\\n\\n### **V. The Shifting Landscape: Skills, Education, and Adaptation (Approx. 250-300 words)**\\n\\n*   **A. The Upskilling and Reskilling Imperative:**\\n    *   **Concept:** Lifelong learning is no longer a luxury but a necessity.\\n    *   **Strategies:** Online courses, vocational training, company-sponsored programs, micro-credentials.\\n*   **B. In-Demand Skills for the AI Era:**\\n    *   Digital literacy, data fluency, AI literacy (understanding AI\\'s capabilities and limitations), adaptability, continuous learning mindset.\\n*   **C. Role of Education Systems:**\\n    *   Integrating AI literacy into curricula from early stages.\\n    *   Emphasizing critical thinking and problem-solving over rote memorization.\\n    *   Fostering interdisciplinary learning.\\n*   **D. Government and Policy Responses:**\\n    *   Investment in retraining programs, social safety nets (e.g., discussions around UBI), ethical guidelines for AI deployment, fostering innovation.\\n*   **E. Business Strategy:**\\n    *   Investing in human capital, creating hybrid human-AI teams, fostering a culture of continuous learning and experimentation.\\n\\n### **VI. Conclusion (Approx. 100-150 words)**\\n\\n*   **Recap:** Reiterate that AI\\'s impact is complex – both disruptive and transformative. It\\'s not just about job losses, but also about job evolution and creation.\\n*   **Emphasize Adaptation:** The future workforce will be defined by its ability to adapt, learn, and collaborate with intelligent machines.\\n*   **Forward-Looking Statement:** AI is a tool, and its ultimate impact depends on how we choose to develop and integrate it into our society and economy.\\n*   **Call to Action/Thought-Provoking Question:** How will *you* prepare for the AI-driven workforce? What steps should individuals, businesses, and governments take to ensure a prosperous and equitable future of work?\\n\\n---', additional_kwargs={}, response_metadata={'prompt_feedback': {'block_reason': 0, 'safety_ratings': []}, 'finish_reason': 'STOP', 'model_name': 'gemini-2.5-flash', 'safety_ratings': []}, id='run--035a7fc7-0811-4b1f-b40c-68f818a5366e-0', usage_metadata={'input_tokens': 14, 'output_tokens': 2652, 'total_tokens': 2666, 'input_token_details': {'cache_read': 0}, 'output_token_details': {'reasoning': 1349}})"
      ]
     },
     "execution_count": 11,
     "metadata": {},
     "output_type": "execute_result"
    }
   ],
   "source": [
    "initial_state = {'title': \"Impact of AI on jobs\"}\n",
    "\n",
    "final_state = workflow.invoke(initial_state)\n",
    "\n",
    "print(final_state)"
   ]
  },
  {
   "cell_type": "code",
   "execution_count": 14,
   "id": "aebd2134",
   "metadata": {},
   "outputs": [
    {
     "data": {
      "text/plain": [
       "'Here\\'s a comprehensive blog outline on the \"Impact of AI on Jobs,\" designed to be engaging, informative, and balanced.\\n\\n---\\n\\n## Blog Outline: The AI Revolution: Navigating its Impact on Jobs – Threat or Opportunity?\\n\\n**Target Audience:** Professionals, students, educators, policymakers, anyone interested in the future of work.\\n**Tone:** Informative, balanced, forward-looking, slightly urgent but optimistic about adaptation.\\n\\n---\\n\\n### **I. Catchy Title Options:**\\n\\n*   The AI Revolution: Navigating its Impact on Jobs – Threat or Opportunity?\\n*   AI and the Future of Work: Are You Ready for the Transformation?\\n*   Beyond Automation: How AI is Reshaping the Global Job Market\\n*   Decoding the AI Effect: Job Losses, New Roles, and Essential Skills\\n\\n### **II. Introduction (Approx. 150-200 words)**\\n\\n*   **Hook:** Start with the current buzz around AI (ChatGPT, DALL-E, etc.) and the palpable excitement/anxiety it generates.\\n*   **Brief Definition of AI:** What is AI in the context of its impact on work (automation, learning, decision-making).\\n*   **Thesis Statement:** AI is not just a technological advancement; it\\'s a fundamental force reshaping the job market, presenting both significant challenges (job displacement) and unprecedented opportunities (new roles, enhanced productivity).\\n*   **Acknowledge the Debate:** Briefly mention the \"doom and gloom\" vs. \"unbridled optimism\" perspectives.\\n*   **Roadmap:** Briefly state what the blog post will cover (displacement, creation, augmentation, adaptation).\\n\\n### **III. The Fear Factor: Job Displacement and Automation (Approx. 250-300 words)**\\n\\n*   **A. Automation of Routine and Repetitive Tasks:**\\n    *   **Concept:** AI excels at tasks that are predictable, data-intensive, and rule-based.\\n    *   **Examples:** Manufacturing (assembly lines), data entry, basic customer service (chatbots), accounting (reconciliation), truck driving (autonomous vehicles).\\n*   **B. Impact on Mid-Skill Jobs:**\\n    *   **Concept:** AI can perform tasks previously requiring human judgment, affecting roles in administration, legal research, financial analysis, etc.\\n    *   **Examples:** Paralegals using AI for document review, financial analysts using AI for market predictions.\\n*   **C. Industries Most Susceptible (Short-term):**\\n    *   Transportation, Manufacturing, Administrative Support, Retail, Customer Service.\\n*   **D. The \"Hollowing Out\" Effect:**\\n    *   Briefly discuss the potential for a shrinking middle class if not managed.\\n\\n### **IV. The Silver Lining: Job Creation and Augmentation (Approx. 300-350 words)**\\n\\n*   **A. Emergence of New Job Roles:**\\n    *   **Concept:** AI creates entirely new industries and specialized roles that didn\\'t exist before.\\n    *   **Examples:** AI Developers, Machine Learning Engineers, Data Scientists, AI Ethicists, Prompt Engineers, AI Trainers, Robotics Engineers, AI UX Designers.\\n*   **B. AI as an Augmentation Tool (Human-AI Collaboration):**\\n    *   **Concept:** AI doesn\\'t replace humans but enhances their capabilities, allowing them to focus on higher-value tasks.\\n    *   **Examples:** Doctors using AI for diagnostics, lawyers using AI for case research, architects using AI for design optimization, creatives using AI for idea generation.\\n    *   **Benefits:** Increased productivity, efficiency, improved decision-making, reduced human error.\\n*   **C. Focus on \"Human-Centric\" Skills:**\\n    *   **Concept:** As AI handles routine tasks, uniquely human skills become more valuable.\\n    *   **Examples:** Creativity, critical thinking, emotional intelligence, complex problem-solving, collaboration, communication, negotiation, leadership.\\n*   **D. Growth in \"Care\" and \"Experience\" Economies:**\\n    *   Roles requiring empathy, personal interaction, and bespoke experiences (healthcare, education, arts, hospitality).\\n\\n### **V. The Shifting Landscape: Skills, Education, and Adaptation (Approx. 250-300 words)**\\n\\n*   **A. The Upskilling and Reskilling Imperative:**\\n    *   **Concept:** Lifelong learning is no longer a luxury but a necessity.\\n    *   **Strategies:** Online courses, vocational training, company-sponsored programs, micro-credentials.\\n*   **B. In-Demand Skills for the AI Era:**\\n    *   Digital literacy, data fluency, AI literacy (understanding AI\\'s capabilities and limitations), adaptability, continuous learning mindset.\\n*   **C. Role of Education Systems:**\\n    *   Integrating AI literacy into curricula from early stages.\\n    *   Emphasizing critical thinking and problem-solving over rote memorization.\\n    *   Fostering interdisciplinary learning.\\n*   **D. Government and Policy Responses:**\\n    *   Investment in retraining programs, social safety nets (e.g., discussions around UBI), ethical guidelines for AI deployment, fostering innovation.\\n*   **E. Business Strategy:**\\n    *   Investing in human capital, creating hybrid human-AI teams, fostering a culture of continuous learning and experimentation.\\n\\n### **VI. Conclusion (Approx. 100-150 words)**\\n\\n*   **Recap:** Reiterate that AI\\'s impact is complex – both disruptive and transformative. It\\'s not just about job losses, but also about job evolution and creation.\\n*   **Emphasize Adaptation:** The future workforce will be defined by its ability to adapt, learn, and collaborate with intelligent machines.\\n*   **Forward-Looking Statement:** AI is a tool, and its ultimate impact depends on how we choose to develop and integrate it into our society and economy.\\n*   **Call to Action/Thought-Provoking Question:** How will *you* prepare for the AI-driven workforce? What steps should individuals, businesses, and governments take to ensure a prosperous and equitable future of work?\\n\\n---'"
      ]
     },
     "execution_count": 14,
     "metadata": {},
     "output_type": "execute_result"
    }
   ],
   "source": [
    "final_state['outline'].content"
   ]
  },
  {
   "cell_type": "code",
   "execution_count": 15,
   "id": "2a7d72e9",
   "metadata": {},
   "outputs": [
    {
     "data": {
      "text/plain": [
       "'Here\\'s the blog content based on the comprehensive outline provided:\\n\\n---\\n\\n## The AI Revolution: Navigating its Impact on Jobs – Threat or Opportunity?\\n\\nIn recent months, the world has been captivated by the rapid advancements in Artificial Intelligence. From the conversational prowess of ChatGPT to the artistic wonders of DALL-E, AI is no longer a futuristic concept but a tangible force reshaping our daily lives and, critically, our professional landscapes. At its core, AI in the context of work refers to systems that can automate tasks, learn from data, and make decisions, often exceeding human speed and scale.\\n\\nThis isn\\'t merely another technological upgrade; it\\'s a fundamental shift poised to redefine the global job market. AI presents both significant challenges, notably the potential for job displacement, and unprecedented opportunities, including the creation of entirely new roles and enhanced productivity across industries. While some foresee a future of widespread unemployment and economic disruption, others champion AI as the key to a more efficient and prosperous world. This blog post aims to navigate this complex debate, exploring how AI is leading to job displacement, fostering new job creation, augmenting human capabilities, and demanding a proactive approach to skills and adaptation.\\n\\n### The Fear Factor: Job Displacement and Automation\\n\\nThe most immediate concern surrounding AI\\'s rise is its potential to automate tasks, leading to job displacement. AI excels at tasks that are predictable, data-intensive, and rule-based, making certain roles particularly susceptible.\\n\\n**Automation of Routine and Repetitive Tasks:** AI\\'s strength lies in its ability to handle high volumes of structured work with precision. We\\'ve seen this manifest in manufacturing, where robotic arms handle assembly lines with increasing autonomy. Similarly, data entry, basic customer service (through sophisticated chatbots), and even routine accounting functions like reconciliation are increasingly being managed by AI systems. The advent of autonomous vehicles, for instance, signals a significant impact on truck driving and other transportation roles.\\n\\n**Impact on Mid-Skill Jobs:** Alarmingly, AI\\'s capabilities extend beyond manual labor. It can now perform tasks previously requiring human judgment, affecting roles in administration, legal research, and financial analysis. Paralegals are leveraging AI for rapid document review, while financial analysts use AI for complex market predictions, potentially reducing the need for large human teams for these specific tasks.\\n\\n**Industries Most Susceptible (Short-term):** In the immediate future, sectors like Transportation, Manufacturing, Administrative Support, Retail, and Customer Service are expected to experience the most significant transformations due to AI adoption. This raises concerns about a \"hollowing out\" effect, where the middle class, often reliant on these mid-skill roles, could shrink if adequate transition strategies are not in place.\\n\\n### The Silver Lining: Job Creation and Augmentation\\n\\nWhile job displacement is a valid concern, it\\'s only one side of the coin. AI is also a powerful engine for job creation and a tool for augmenting human capabilities, leading to increased productivity and new opportunities.\\n\\n**Emergence of New Job Roles:** The very development and deployment of AI technology necessitate entirely new industries and specialized roles that didn\\'t exist a decade ago. We\\'re seeing a surge in demand for AI Developers, Machine Learning Engineers, and Data Scientists who build and manage these intelligent systems. Newer roles like AI Ethicists, Prompt Engineers (who specialize in crafting effective AI inputs), AI Trainers (who refine AI models), Robotics Engineers, and AI UX Designers are becoming crucial for integrating AI seamlessly and responsibly into society.\\n\\n**AI as an Augmentation Tool (Human-AI Collaboration):** Perhaps the most transformative aspect of AI is its role not as a replacement, but as an enhancement. AI can empower humans to achieve more by handling tedious or complex computations, allowing people to focus on higher-value tasks. Doctors can use AI for faster, more accurate diagnostics; lawyers can leverage AI for comprehensive case research; architects can optimize designs with AI\\'s generative capabilities; and creatives can use AI for idea generation, serving as a powerful co-pilot. This collaboration leads to increased productivity, enhanced efficiency, improved decision-making, and a reduction in human error.\\n\\n**Focus on \"Human-Centric\" Skills:** As AI takes over routine and analytical tasks, uniquely human skills become even more valuable. These are abilities that AI currently struggles to replicate: creativity, critical thinking, emotional intelligence, complex problem-solving, nuanced collaboration, persuasive communication, negotiation, and leadership. These \"soft skills\" will be the bedrock of the future workforce, distinguishing human contributions from machine capabilities.\\n\\n**Growth in \"Care\" and \"Experience\" Economies:** Furthermore, roles requiring empathy, personal interaction, and bespoke experiences are poised for growth. Sectors like healthcare, education, the arts, and hospitality, which rely heavily on human connection and personalized service, will likely see increased demand as AI handles more transactional aspects of life.\\n\\n### The Shifting Landscape: Skills, Education, and Adaptation\\n\\nNavigating this evolving landscape requires a proactive and strategic approach from individuals, educational institutions, governments, and businesses alike.\\n\\n**The Upskilling and Reskilling Imperative:** Lifelong learning is no longer a buzzword but a fundamental necessity. Individuals must continuously update their skills to remain relevant. This can be achieved through various strategies, including online courses, vocational training programs, company-sponsored learning initiatives, and micro-credentials that certify specific competencies.\\n\\n**In-Demand Skills for the AI Era:** Beyond traditional expertise, a new set of skills is becoming critical. Digital literacy is foundational, coupled with data fluency – the ability to understand and interpret data. Crucially, AI literacy, which involves understanding AI\\'s capabilities and limitations, ethical implications, and how to effectively collaborate with AI tools, will be paramount. Above all, adaptability and a continuous learning mindset will be the ultimate differentiators.\\n\\n**Role of Education Systems:** Education systems must evolve to prepare the next generation. This involves integrating AI literacy into curricula from early stages, shifting emphasis from rote memorization to fostering critical thinking and complex problem-solving. Encouraging interdisciplinary learning will also be vital, as AI often blurs traditional subject boundaries.\\n\\n**Government and Policy Responses:** Governments have a crucial role in managing this transition. This includes significant investment in retraining programs for displaced workers, exploring social safety nets (like discussions around Universal Basic Income) to cushion economic shocks, establishing ethical guidelines for AI development and deployment, and fostering an environment conducive to innovation and job creation.\\n\\n**Business Strategy:** Businesses must also adapt their strategies. This means investing in their human capital, not just technology. Creating hybrid human-AI teams that leverage the strengths of both will be key. Fostering a culture of continuous learning and experimentation within organizations will ensure agility and resilience in the face of rapid technological change.\\n\\n### Conclusion\\n\\nThe impact of AI on jobs is undeniably complex, presenting both profound disruption and incredible transformative potential. It\\'s crucial to understand that AI\\'s influence isn\\'t solely about job losses but more significantly about job evolution and the creation of entirely new opportunities. The future workforce will be defined not by its ability to compete against intelligent machines, but by its capacity to adapt, learn new skills, and collaborate seamlessly with them.\\n\\nUltimately, AI is a powerful tool, and its ultimate impact will depend on how we collectively choose to develop, regulate, and integrate it into our society and economy. The question isn\\'t whether AI will change work, but rather: How will *you* prepare for the AI-driven workforce? What steps should individuals, businesses, and governments take now to ensure a prosperous and equitable future of work for all? The time to act and adapt is now.'"
      ]
     },
     "execution_count": 15,
     "metadata": {},
     "output_type": "execute_result"
    }
   ],
   "source": [
    "final_state['content'].content"
   ]
  },
  {
   "cell_type": "code",
   "execution_count": 17,
   "id": "42de133c",
   "metadata": {},
   "outputs": [
    {
     "data": {
      "image/png": "[encoded data removed]",
      "text/plain": [
       "<IPython.core.display.Image object>"
      ]
     },
     "execution_count": 17,
     "metadata": {},
     "output_type": "execute_result"
    }
   ],
   "source": [
    "from IPython.display import Image\n",
    "\n",
    "Image(workflow.get_graph().draw_mermaid_png())"
   ]
  },
  {
   "cell_type": "code",
   "execution_count": null,
   "id": "7da901e9",
   "metadata": {},
   "outputs": [],
   "source": []
  },
  {
   "cell_type": "code",
   "execution_count": null,
   "id": "9f91ef15",
   "metadata": {},
   "outputs": [],
   "source": []
  },
  {
   "cell_type": "code",
   "execution_count": null,
   "id": "4405f3cd",
   "metadata": {},
   "outputs": [],
   "source": []
  }
 ],
 "metadata": {
  "kernelspec": {
   "display_name": "myenv",
   "language": "python",
   "name": "python3"
  },
  "language_info": {
   "codemirror_mode": {
    "name": "ipython",
    "version": 3
   },
   "file_extension": ".py",
   "mimetype": "text/x-python",
   "name": "python",
   "nbconvert_exporter": "python",
   "pygments_lexer": "ipython3",
   "version": "3.11.3"
  }
 },
 "nbformat": 4,
 "nbformat_minor": 5
}
