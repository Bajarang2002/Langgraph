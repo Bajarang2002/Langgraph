{
 "cells": [
  {
   "cell_type": "code",
   "execution_count": 1,
   "id": "383a6aed",
   "metadata": {},
   "outputs": [],
   "source": [
    "from langchain_google_genai import ChatGoogleGenerativeAI\n",
    "from langgraph.graph import StateGraph,START,END\n",
    "from dotenv import load_dotenv\n",
    "from typing import TypedDict,Annotated\n",
    "from pydantic import BaseModel,Field\n",
    "import operator"
   ]
  },
  {
   "cell_type": "code",
   "execution_count": 2,
   "id": "8d17bf3d",
   "metadata": {},
   "outputs": [
    {
     "data": {
      "text/plain": [
       "True"
      ]
     },
     "execution_count": 2,
     "metadata": {},
     "output_type": "execute_result"
    }
   ],
   "source": [
    "load_dotenv()"
   ]
  },
  {
   "cell_type": "code",
   "execution_count": 3,
   "id": "2cce6985",
   "metadata": {},
   "outputs": [],
   "source": [
    "model = ChatGoogleGenerativeAI(model =\"gemini-2.5-flash\")"
   ]
  },
  {
   "cell_type": "code",
   "execution_count": 4,
   "id": "21aa2215",
   "metadata": {},
   "outputs": [],
   "source": [
    "class  Evaluation_Schema(BaseModel):\n",
    "\n",
    "    feedback : str = Field(description=\" Provide the description of the essay\")\n",
    "    score :float = Field(description=\"Provide score out of 10\",ge=0,le=10)"
   ]
  },
  {
   "cell_type": "code",
   "execution_count": 5,
   "id": "e7c11b8c",
   "metadata": {},
   "outputs": [],
   "source": [
    "structure_model = model.with_structured_output(Evaluation_Schema)"
   ]
  },
  {
   "cell_type": "code",
   "execution_count": 6,
   "id": "d8e26127",
   "metadata": {},
   "outputs": [],
   "source": [
    "essay =  \"\"\"India in the Age of AI\n",
    "As the world enters a transformative era defined by artificial intelligence (AI), India stands at a critical juncture — one where it can either emerge as a global leader in AI innovation or risk falling behind in the technology race. The age of AI brings with it immense promise as well as unprecedented challenges, and how India navigates this landscape will shape its socio-economic and geopolitical future.\n",
    "\n",
    "India's strengths in the AI domain are rooted in its vast pool of skilled engineers, a thriving IT industry, and a growing startup ecosystem. With over 5 million STEM graduates annually and a burgeoning base of AI researchers, India possesses the intellectual capital required to build cutting-edge AI systems. Institutions like IITs, IIITs, and IISc have begun fostering AI research, while private players such as TCS, Infosys, and Wipro are integrating AI into their global services. In 2020, the government launched the National AI Strategy (AI for All) with a focus on inclusive growth, aiming to leverage AI in healthcare, agriculture, education, and smart mobility.\n",
    "\n",
    "One of the most promising applications of AI in India lies in agriculture, where predictive analytics can guide farmers on optimal sowing times, weather forecasts, and pest control. In healthcare, AI-powered diagnostics can help address India’s doctor-patient ratio crisis, particularly in rural areas. Educational platforms are increasingly using AI to personalize learning paths, while smart governance tools are helping improve public service delivery and fraud detection.\n",
    "\n",
    "However, the path to AI-led growth is riddled with challenges. Chief among them is the digital divide. While metropolitan cities may embrace AI-driven solutions, rural India continues to struggle with basic internet access and digital literacy. The risk of job displacement due to automation also looms large, especially for low-skilled workers. Without effective skilling and re-skilling programs, AI could exacerbate existing socio-economic inequalities.\n",
    "\n",
    "Another pressing concern is data privacy and ethics. As AI systems rely heavily on vast datasets, ensuring that personal data is used transparently and responsibly becomes vital. India is still shaping its data protection laws, and in the absence of a strong regulatory framework, AI systems may risk misuse or bias.\n",
    "\n",
    "To harness AI responsibly, India must adopt a multi-stakeholder approach involving the government, academia, industry, and civil society. Policies should promote open datasets, encourage responsible innovation, and ensure ethical AI practices. There is also a need for international collaboration, particularly with countries leading in AI research, to gain strategic advantage and ensure interoperability in global systems.\n",
    "\n",
    "India’s demographic dividend, when paired with responsible AI adoption, can unlock massive economic growth, improve governance, and uplift marginalized communities. But this vision will only materialize if AI is seen not merely as a tool for automation, but as an enabler of human-centered development.\n",
    "\n",
    "In conclusion, India in the age of AI is a story in the making — one of opportunity, responsibility, and transformation. The decisions we make today will not just determine India’s AI trajectory, but also its future as an inclusive, equitable, and innovation-driven society.\"\"\""
   ]
  },
  {
   "cell_type": "code",
   "execution_count": 7,
   "id": "5dc8118c",
   "metadata": {},
   "outputs": [],
   "source": [
    "prompt = f\"Evaluate the language quality of the following essay and provide feedback and assign score out of 10 \\n {essay} \""
   ]
  },
  {
   "cell_type": "code",
   "execution_count": 8,
   "id": "e49e4b38",
   "metadata": {},
   "outputs": [
    {
     "data": {
      "text/plain": [
       "\"The essay provides a comprehensive and well-structured analysis of India's position in the age of AI, effectively discussing both its immense potential and significant challenges. The language quality is excellent, characterized by clear, concise prose, a strong vocabulary, and varied sentence structures. The arguments are logically presented, moving from India's strengths and promising applications to the critical hurdles like the digital divide, job displacement, and data privacy. The essay maintains a coherent flow, making it easy to follow the author's line of reasoning. The conclusion effectively summarizes the key points and reinforces the importance of responsible AI adoption for India's future. Overall, it's a very strong and insightful piece.\""
      ]
     },
     "execution_count": 8,
     "metadata": {},
     "output_type": "execute_result"
    }
   ],
   "source": [
    "structure_model.invoke(prompt).feedback"
   ]
  },
  {
   "cell_type": "code",
   "execution_count": 9,
   "id": "702f3a2d",
   "metadata": {},
   "outputs": [
    {
     "data": {
      "text/plain": [
       "9.0"
      ]
     },
     "execution_count": 9,
     "metadata": {},
     "output_type": "execute_result"
    }
   ],
   "source": [
    "structure_model.invoke(prompt).score"
   ]
  },
  {
   "cell_type": "code",
   "execution_count": 236,
   "id": "a52f45f2",
   "metadata": {},
   "outputs": [],
   "source": [
    "class UPSCstate(TypedDict):\n",
    "    essay :str\n",
    "    language_feedback : str\n",
    "    analysis_feedback :str\n",
    "    clarity_feedback :str\n",
    "    overall_feedback: str\n",
    "    individual_scores: Annotated[list[int],operator.add]\n",
    "    avg_score :float\n"
   ]
  },
  {
   "cell_type": "code",
   "execution_count": 237,
   "id": "1a84e001",
   "metadata": {},
   "outputs": [],
   "source": [
    "def  evaluate_langauge(state : UPSCstate):\n",
    "\n",
    "    prompt =f\"Evaluate the quality of the langauges and provide feedback and score out of 10  \\n {state['essay']} \"\n",
    "\n",
    "    output =  structure_model.invoke(prompt)\n",
    "\n",
    "    return {\"language_feedback\": output.feedback,'individual_scores':[output.score]}"
   ]
  },
  {
   "cell_type": "code",
   "execution_count": 238,
   "id": "aef372d6",
   "metadata": {},
   "outputs": [],
   "source": [
    "def  evaluate_analysis(state : UPSCstate):\n",
    "    \n",
    "    prompt =f\"Evaluate the quality of the analysis and provide feedback and score out of 10  \\n {state['essay']} \"\n",
    "\n",
    "    output = structure_model.invoke(prompt)\n",
    "\n",
    "    return {\"analysis_feedback\": output.feedback,'individual_scores':[output.score]}"
   ]
  },
  {
   "cell_type": "code",
   "execution_count": 239,
   "id": "a658690d",
   "metadata": {},
   "outputs": [],
   "source": [
    "def  evaluate_thoughts(state : UPSCstate):\n",
    "\n",
    "    prompt =f\"Evaluate the quality of the thoughts and provide feedback and score out of 10  \\n {state['essay']} \"\n",
    "\n",
    "    output = structure_model.invoke(prompt)\n",
    "\n",
    "    return {\"clarity_feedback\": output.feedback,'individual_scores':[output.score]}"
   ]
  },
  {
   "cell_type": "code",
   "execution_count": 247,
   "id": "d1ffaa94",
   "metadata": {},
   "outputs": [],
   "source": [
    "def final_evaluation(state: UPSCstate):\n",
    "\n",
    "    prompt = f\" Based on the following feedback generate summarize feedback \\n language_feedback - {state['language_feedback']} \\n depth of analysis feedback - {state['analysis_feedback']} \\n clarity_thoughts -{state['clarity_feedback']}]\"\n",
    "\n",
    "    overall_feedback = model.invoke(prompt).content\n",
    "\n",
    "    avg_score = sum(state['individual_scores'])/len(state['individual_scores'])\n",
    "\n",
    "    return {\"overall_feedback\":overall_feedback,'avg_score': avg_score}"
   ]
  },
  {
   "cell_type": "code",
   "execution_count": 248,
   "id": "365cbb0b",
   "metadata": {},
   "outputs": [],
   "source": [
    "graph  = StateGraph(UPSCstate)"
   ]
  },
  {
   "cell_type": "code",
   "execution_count": 249,
   "id": "0b7c8db2",
   "metadata": {},
   "outputs": [
    {
     "data": {
      "text/plain": [
       "<langgraph.graph.state.StateGraph at 0x2042dd3a3d0>"
      ]
     },
     "execution_count": 249,
     "metadata": {},
     "output_type": "execute_result"
    }
   ],
   "source": [
    "graph.add_node('evaluate_langauge',evaluate_langauge)\n",
    "graph.add_node('evaluate_analysis',evaluate_analysis)\n",
    "graph.add_node('evaluate_thoughts', evaluate_thoughts) \n",
    "graph.add_node('final_evaluation',final_evaluation)\n",
    "\n",
    "graph.add_edge(START,'evaluate_langauge')\n",
    "graph.add_edge(START,'evaluate_analysis')\n",
    "graph.add_edge(START,'evaluate_thoughts')\n",
    "\n",
    "graph.add_edge('evaluate_langauge','final_evaluation')\n",
    "graph.add_edge('evaluate_analysis','final_evaluation')\n",
    "graph.add_edge('evaluate_thoughts','final_evaluation')\n",
    "\n",
    "graph.add_edge('final_evaluation',END)\n"
   ]
  },
  {
   "cell_type": "code",
   "execution_count": 250,
   "id": "709f74eb",
   "metadata": {},
   "outputs": [],
   "source": [
    "workflow = graph.compile()"
   ]
  },
  {
   "cell_type": "code",
   "execution_count": 251,
   "id": "443313dc",
   "metadata": {},
   "outputs": [
    {
     "data": {
      "image/png": "[encoded data removed]",
      "text/plain": [
       "<langgraph.graph.state.CompiledStateGraph object at 0x000002042DAE0350>"
      ]
     },
     "execution_count": 251,
     "metadata": {},
     "output_type": "execute_result"
    }
   ],
   "source": [
    "workflow"
   ]
  },
  {
   "cell_type": "code",
   "execution_count": 252,
   "id": "62680198",
   "metadata": {},
   "outputs": [],
   "source": [
    "intial_state = {\n",
    "    'essay' : essay\n",
    "}"
   ]
  },
  {
   "cell_type": "code",
   "execution_count": 256,
   "id": "5748a45f",
   "metadata": {},
   "outputs": [
    {
     "name": "stdout",
     "output_type": "stream",
     "text": [
      "{'essay': \"India in the Age of AI\\nAs the world enters a transformative era defined by artificial intelligence (AI), India stands at a critical juncture — one where it can either emerge as a global leader in AI innovation or risk falling behind in the technology race. The age of AI brings with it immense promise as well as unprecedented challenges, and how India navigates this landscape will shape its socio-economic and geopolitical future.\\n\\nIndia's strengths in the AI domain are rooted in its vast pool of skilled engineers, a thriving IT industry, and a growing startup ecosystem. With over 5 million STEM graduates annually and a burgeoning base of AI researchers, India possesses the intellectual capital required to build cutting-edge AI systems. Institutions like IITs, IIITs, and IISc have begun fostering AI research, while private players such as TCS, Infosys, and Wipro are integrating AI into their global services. In 2020, the government launched the National AI Strategy (AI for All) with a focus on inclusive growth, aiming to leverage AI in healthcare, agriculture, education, and smart mobility.\\n\\nOne of the most promising applications of AI in India lies in agriculture, where predictive analytics can guide farmers on optimal sowing times, weather forecasts, and pest control. In healthcare, AI-powered diagnostics can help address India’s doctor-patient ratio crisis, particularly in rural areas. Educational platforms are increasingly using AI to personalize learning paths, while smart governance tools are helping improve public service delivery and fraud detection.\\n\\nHowever, the path to AI-led growth is riddled with challenges. Chief among them is the digital divide. While metropolitan cities may embrace AI-driven solutions, rural India continues to struggle with basic internet access and digital literacy. The risk of job displacement due to automation also looms large, especially for low-skilled workers. Without effective skilling and re-skilling programs, AI could exacerbate existing socio-economic inequalities.\\n\\nAnother pressing concern is data privacy and ethics. As AI systems rely heavily on vast datasets, ensuring that personal data is used transparently and responsibly becomes vital. India is still shaping its data protection laws, and in the absence of a strong regulatory framework, AI systems may risk misuse or bias.\\n\\nTo harness AI responsibly, India must adopt a multi-stakeholder approach involving the government, academia, industry, and civil society. Policies should promote open datasets, encourage responsible innovation, and ensure ethical AI practices. There is also a need for international collaboration, particularly with countries leading in AI research, to gain strategic advantage and ensure interoperability in global systems.\\n\\nIndia’s demographic dividend, when paired with responsible AI adoption, can unlock massive economic growth, improve governance, and uplift marginalized communities. But this vision will only materialize if AI is seen not merely as a tool for automation, but as an enabler of human-centered development.\\n\\nIn conclusion, India in the age of AI is a story in the making — one of opportunity, responsibility, and transformation. The decisions we make today will not just determine India’s AI trajectory, but also its future as an inclusive, equitable, and innovation-driven society.\", 'language_feedback': 'The essay demonstrates excellent language quality, characterized by clear and coherent argumentation, a sophisticated vocabulary, and a well-structured narrative. The content is comprehensive, addressing both the opportunities and challenges of AI in India with a balanced perspective. There are no noticeable grammatical errors or typos, and the flow of ideas is smooth and logical.', 'analysis_feedback': \"The essay provides a comprehensive and well-structured analysis of India's position in the age of AI, effectively highlighting both its significant strengths (skilled workforce, IT industry, government initiatives) and the critical challenges it faces (digital divide, job displacement, data privacy). It clearly articulates promising applications of AI in key sectors like agriculture and healthcare, demonstrating a good understanding of AI's potential societal impact. The discussion on challenges is pertinent, especially concerning the digital divide and the need for robust data protection laws. To further enhance the analysis, consider incorporating more specific data or statistics to bolster claims, and perhaps delve deeper into the nuances of certain challenges, such as the specific demographics affected by the digital divide or detailed examples of re-skilling initiatives. Overall, a very strong and insightful piece that effectively captures the multifaceted landscape of AI in India.\", 'clarity_feedback': \"The essay provides a well-structured and comprehensive overview of India's position in the age of AI. It effectively highlights both the significant opportunities, leveraging India's strengths in human capital and IT, and the critical challenges such as the digital divide, job displacement, and data privacy. The analysis is balanced, offering a nuanced perspective on how AI can drive socio-economic growth while emphasizing the need for responsible and human-centered development. The language is clear and professional, making the complex topic accessible. To further enhance the essay, it could have included more specific examples of successful Indian AI implementations or detailed policy recommendations.\", 'overall_feedback': \"The essay demonstrates **excellent language quality**, characterized by clear, coherent argumentation, sophisticated vocabulary, and a well-structured narrative, with no noticeable grammatical errors.\\n\\nThe **analysis is comprehensive, well-structured, and insightful**, effectively highlighting both India's significant strengths (skilled workforce, IT industry, government initiatives) and critical challenges (digital divide, job displacement, data privacy) in the age of AI. It clearly articulates promising applications and offers a balanced, nuanced perspective on AI's potential societal impact.\\n\\nTo further enhance the work, it is suggested to **incorporate more specific data or statistics**, delve deeper into the **nuances of certain challenges** (e.g., specific demographics affected by the digital divide or detailed re-skilling examples), and include **more specific examples of successful Indian AI implementations or detailed policy recommendations.**\", 'individual_scores': [8.5, 9.0, 9.0], 'avg_score': 8.833333333333334}\n"
     ]
    }
   ],
   "source": [
    "final_state = workflow.invoke(intial_state)\n",
    "print(final_state)"
   ]
  },
  {
   "cell_type": "code",
   "execution_count": 257,
   "id": "55f8bc4b",
   "metadata": {},
   "outputs": [
    {
     "data": {
      "text/plain": [
       "'The essay demonstrates excellent language quality, characterized by clear and coherent argumentation, a sophisticated vocabulary, and a well-structured narrative. The content is comprehensive, addressing both the opportunities and challenges of AI in India with a balanced perspective. There are no noticeable grammatical errors or typos, and the flow of ideas is smooth and logical.'"
      ]
     },
     "execution_count": 257,
     "metadata": {},
     "output_type": "execute_result"
    }
   ],
   "source": [
    "final_state['language_feedback']\n"
   ]
  },
  {
   "cell_type": "code",
   "execution_count": null,
   "id": "255ba1f5",
   "metadata": {},
   "outputs": [],
   "source": []
  },
  {
   "cell_type": "code",
   "execution_count": null,
   "id": "b95df961",
   "metadata": {},
   "outputs": [],
   "source": []
  },
  {
   "cell_type": "code",
   "execution_count": null,
   "id": "3368299d",
   "metadata": {},
   "outputs": [],
   "source": []
  }
 ],
 "metadata": {
  "kernelspec": {
   "display_name": "myenv",
   "language": "python",
   "name": "python3"
  },
  "language_info": {
   "codemirror_mode": {
    "name": "ipython",
    "version": 3
   },
   "file_extension": ".py",
   "mimetype": "text/x-python",
   "name": "python",
   "nbconvert_exporter": "python",
   "pygments_lexer": "ipython3",
   "version": "3.11.3"
  }
 },
 "nbformat": 4,
 "nbformat_minor": 5
}
