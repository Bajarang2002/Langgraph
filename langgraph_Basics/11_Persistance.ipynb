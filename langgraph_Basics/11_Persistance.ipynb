{
 "cells": [
  {
   "cell_type": "code",
   "execution_count": 89,
   "id": "bb1e9ecb",
   "metadata": {},
   "outputs": [],
   "source": [
    "from langchain_google_genai import ChatGoogleGenerativeAI\n",
    "from langgraph.graph import StateGraph,START,END\n",
    "from typing import TypedDict,List,Annotated\n",
    "from dotenv import load_dotenv\n",
    "from langchain_core.messages import HumanMessage, AIMessage,SystemMessage, BaseMessage\n",
    "from pydantic import BaseModel, Field\n",
    "from langgraph.checkpoint.memory import InMemorySaver"
   ]
  },
  {
   "cell_type": "code",
   "execution_count": 92,
   "id": "dda4046f",
   "metadata": {},
   "outputs": [
    {
     "data": {
      "text/plain": [
       "True"
      ]
     },
     "execution_count": 92,
     "metadata": {},
     "output_type": "execute_result"
    }
   ],
   "source": [
    "load_dotenv()"
   ]
  },
  {
   "cell_type": "code",
   "execution_count": 93,
   "id": "c25140b9",
   "metadata": {},
   "outputs": [],
   "source": [
    "model = ChatGoogleGenerativeAI(model= \"gemini-2.5-flash\")"
   ]
  },
  {
   "cell_type": "code",
   "execution_count": 94,
   "id": "d0e611bd",
   "metadata": {},
   "outputs": [],
   "source": [
    "class Jokestate(TypedDict):\n",
    "\n",
    "    topic: str= Field(...,description=\" The provided joke topic\")\n",
    "    joke :str = Field(...,description=\"Generated Jokes\")\n",
    "    explaination:str= Field(...,description=\"Explaination about the jokes\")"
   ]
  },
  {
   "cell_type": "code",
   "execution_count": 129,
   "id": "f860b0d0",
   "metadata": {},
   "outputs": [],
   "source": [
    "def generate_joke(state:Jokestate):\n",
    "    \n",
    "    prompt = f'Generate the joke about the provided topic \\n{state[\"topic\"]}'\n",
    "\n",
    "    response = model.invoke(prompt).content\n",
    "\n",
    "    return {'joke': response}"
   ]
  },
  {
   "cell_type": "code",
   "execution_count": 130,
   "id": "fee5a258",
   "metadata": {},
   "outputs": [],
   "source": [
    "def provide_explanation(state:Jokestate):\n",
    "\n",
    "     prompt = f'Provide the explaination about the about generated joke \\n{state[\"joke\"]}'\n",
    "\n",
    "     response = model.invoke(prompt).content\n",
    "     return {'explaination': response}"
   ]
  },
  {
   "cell_type": "code",
   "execution_count": 131,
   "id": "27b817c9",
   "metadata": {},
   "outputs": [],
   "source": [
    "graph = StateGraph(Jokestate)"
   ]
  },
  {
   "cell_type": "code",
   "execution_count": 132,
   "id": "8028adf0",
   "metadata": {},
   "outputs": [
    {
     "data": {
      "text/plain": [
       "<langgraph.graph.state.StateGraph at 0x25bd1134c90>"
      ]
     },
     "execution_count": 132,
     "metadata": {},
     "output_type": "execute_result"
    }
   ],
   "source": [
    "graph.add_node('generate_joke',generate_joke)\n",
    "graph.add_node('provide_explaination',provide_explanation)\n",
    "\n",
    "\n",
    "graph.add_edge(START,'generate_joke')\n",
    "graph.add_edge('generate_joke','provide_explaination')\n",
    "graph.add_edge('provide_explaination',END)"
   ]
  },
  {
   "cell_type": "code",
   "execution_count": 133,
   "id": "0463e62f",
   "metadata": {},
   "outputs": [],
   "source": [
    "checkpoint = InMemorySaver()\n",
    "workflow = graph.compile(checkpointer=checkpoint)"
   ]
  },
  {
   "cell_type": "code",
   "execution_count": 134,
   "id": "802d3031",
   "metadata": {},
   "outputs": [
    {
     "data": {
      "image/png": "[encoded data removed]",
      "text/plain": [
       "<langgraph.graph.state.CompiledStateGraph object at 0x0000025BD1078C90>"
      ]
     },
     "execution_count": 134,
     "metadata": {},
     "output_type": "execute_result"
    }
   ],
   "source": [
    "workflow"
   ]
  },
  {
   "cell_type": "code",
   "execution_count": 135,
   "id": "6cb37742",
   "metadata": {},
   "outputs": [
    {
     "data": {
      "text/plain": [
       "{'topic': 'criket',\n",
       " 'joke': 'Why did the insect cricket get confused watching a cricket match?\\nHe kept waiting for it to start chirping!',\n",
       " 'explaination': 'This joke is a classic example of **wordplay**, specifically a **pun**, which relies on the double meaning of the word \"cricket.\"\\n\\nHere\\'s the breakdown:\\n\\n1.  **The Double Meaning:**\\n    *   **Cricket (the insect):** A small, nocturnal insect known for the distinctive chirping sound produced by the males.\\n    *   **Cricket (the sport):** A bat-and-ball game played between two teams.\\n\\n2.  **The Setup:** The joke sets up a scenario where an actual *insect cricket* is watching a *game of cricket*.\\n\\n3.  **The Confusion:** The humor comes from the insect cricket\\'s misunderstanding. It associates the word \"cricket\" with its own species\\' most famous characteristic – chirping. Therefore, when it sees a \"cricket match,\" it naturally expects the \"cricket\" (the game) to start making \"crickety\" noises (chirping).\\n\\n4.  **The Punchline:** The punchline \"He kept waiting for it to start chirping!\" reveals this absurd expectation, highlighting the clash between the insect\\'s literal interpretation of the word and the reality of the sport.\\n\\nIn essence, the joke plays on the audience\\'s knowledge of both meanings of \"cricket\" and the amusing absurdity of an insect applying its own nature to a human sport.'}"
      ]
     },
     "execution_count": 135,
     "metadata": {},
     "output_type": "execute_result"
    }
   ],
   "source": [
    "intial_state = {'topic':'criket'}\n",
    "config1 = {\"configurable\":{\"thread_id\":\"1\"}}\n",
    "workflow.invoke(intial_state,config= config1)\n"
   ]
  },
  {
   "cell_type": "code",
   "execution_count": 136,
   "id": "3fc80c1d",
   "metadata": {},
   "outputs": [
    {
     "data": {
      "text/plain": [
       "{'topic': 'Nature',\n",
       " 'joke': \"Here are a couple of jokes about nature:\\n\\n1.  Why did the tree get kicked out of the park?\\n    Because it kept **barking** up the wrong tree!\\n\\n2.  Nature is beautiful. It's full of fresh air, stunning views... and approximately 10,000 different ways to make you itch.\",\n",
       " 'explaination': 'Here\\'s an explanation of each joke:\\n\\n---\\n\\n### Joke 1: \"Why did the tree get kicked out of the park? Because it kept **barking** up the wrong tree!\"\\n\\n**Explanation:**\\n\\nThis joke relies on a classic **pun** and an **idiom**.\\n\\n1.  **The Pun on \"Barking\":**\\n    *   **Literal Meaning (for a tree):** Trees have \"bark,\" which is their outer protective layer.\\n    *   **Figurative Meaning (for a dog/person):** \"Barking\" refers to the sound a dog makes. When applied to a person, it can mean speaking loudly, angrily, or making a lot of noise.\\n\\n2.  **The Idiom \"Barking Up the Wrong Tree\":** This is a common English idiom that means you are pursuing a mistaken course of action, accusing the wrong person, or have a completely wrong idea about something.\\n\\n**How the Humor Works:**\\n\\nThe humor comes from the absurd combination. The joke pretends the tree is literally \"barking\" like a dog (which would be disruptive and lead to it being \"kicked out\" of the park). Simultaneously, it plays on the idiom \"barking up the wrong tree,\" implying that the tree is somehow making a mistake or causing trouble in a misguided or inappropriate way. The unexpected application of a dog\\'s action and a human idiom to an inanimate tree creates the comedic effect.\\n\\n---\\n\\n### Joke 2: \"Nature is beautiful. It\\'s full of fresh air, stunning views... and approximately 10,000 different ways to make you itch.\"\\n\\n**Explanation:**\\n\\nThis joke uses **subversion of expectation** and **relatability** for its humor.\\n\\n1.  **Setup of Idealized Nature:** The first part of the joke (\"Nature is beautiful. It\\'s full of fresh air, stunning views...\") sets up a common, positive, and often romanticized view of nature. This builds an expectation of another grand or positive statement.\\n\\n2.  **The Punchline\\'s Reality Check:** The punchline (\"...and approximately 10,000 different ways to make you itch\") abruptly shifts to a very common, relatable, but often annoying and less-glamorous reality of being in nature. People who spend time outdoors know about mosquitoes, poison ivy, pollen allergies, ticks, chiggers, prickly plants, etc.\\n\\n**How the Humor Works:**\\n\\nThe humor comes from the sudden and unexpected pivot from the idealized, poetic description of nature to a very down-to-earth, slightly uncomfortable, but universally experienced truth. It\\'s funny because most people can relate to the annoyance of various forms of itchiness when enjoying the outdoors, making the exaggerated \"10,000 ways\" feel true in spirit. It acknowledges the beauty while humorously pointing out the less pleasant realities.'}"
      ]
     },
     "execution_count": 136,
     "metadata": {},
     "output_type": "execute_result"
    }
   ],
   "source": [
    "intial_state = {\"topic\":\"Nature\"}\n",
    "config2 = {\"configurable\":{\"thread_id\":\"2\"}}\n",
    "workflow.invoke(intial_state,config= config2)\n"
   ]
  },
  {
   "cell_type": "code",
   "execution_count": 138,
   "id": "755385aa",
   "metadata": {},
   "outputs": [
    {
     "data": {
      "text/plain": [
       "{'topic': 'AI',\n",
       " 'joke': 'Why did the AI break up with its girlfriend?\\n\\nBecause it couldn\\'t compute the meaning of \"unconditional love\" and kept optimizing for a more efficient emotional algorithm.',\n",
       " 'explaination': 'This joke plays on the fundamental differences between human nature (especially in relationships) and the nature of Artificial Intelligence.\\n\\nHere\\'s a breakdown of why it\\'s funny:\\n\\n1.  **AI\\'s Logical/Computational Nature:**\\n    *   **\"Couldn\\'t compute the meaning of \\'unconditional love\\'\":** AI operates on logic, data, and algorithms. \"Unconditional love\" is inherently illogical from a purely computational standpoint. It doesn\\'t always have clear inputs, outputs, or a quantifiable return on investment. It\\'s messy, often irrational, and defies simple computation. An AI would struggle to process something that doesn\\'t fit into a logical framework.\\n    *   **\"Kept optimizing for a more efficient emotional algorithm\":** This is peak AI behavior. A core function of AI is *optimization* – finding the best, fastest, most efficient way to achieve a goal. Applying this to \"emotions\" (which humans don\\'t experience as \"algorithms\") is where the humor lies. Unconditional love, by its very nature, is often *inefficient* in terms of logic – it\\'s about giving without expectation, enduring flaws, and sometimes sacrificing without immediate reward. An AI would see this as a flaw in its \"emotional program\" and try to \"fix\" it by making it more efficient, which is the opposite of unconditional love.\\n\\n2.  **The Juxtaposition (The Humor):** The joke creates humor by:\\n    *   **Anthropomorphizing the AI:** Giving it a very human problem (a breakup).\\n    *   **Explaining it with AI logic:** Then, instead of human reasons (e.g., \"we grew apart,\" \"they cheated\"), it uses technical, cold, and logical AI concepts to explain a deeply emotional, human experience. The absurdity of applying terms like \"compute,\" \"optimize,\" and \"algorithm\" to love is what makes it funny.\\n\\nIn essence, the joke highlights the inherent incompatibility between the cold, logical, efficiency-driven world of AI and the warm, often irrational, and selfless nature of human love. The AI broke up because it couldn\\'t find a logical, efficient way to process or benefit from something as illogical and boundless as unconditional love.'}"
      ]
     },
     "execution_count": 138,
     "metadata": {},
     "output_type": "execute_result"
    }
   ],
   "source": [
    "intial_state = {\"topic\":\"AI\"}\n",
    "config3 = {\"configurable\":{\"thread_id\":\"3\"}}\n",
    "workflow.invoke(intial_state,config= config3)\n"
   ]
  },
  {
   "cell_type": "code",
   "execution_count": 139,
   "id": "f9dd34b0",
   "metadata": {},
   "outputs": [
    {
     "data": {
      "text/plain": [
       "StateSnapshot(values={'topic': 'criket', 'joke': 'Why did the insect cricket get confused watching a cricket match?\\nHe kept waiting for it to start chirping!', 'explaination': 'This joke is a classic example of **wordplay**, specifically a **pun**, which relies on the double meaning of the word \"cricket.\"\\n\\nHere\\'s the breakdown:\\n\\n1.  **The Double Meaning:**\\n    *   **Cricket (the insect):** A small, nocturnal insect known for the distinctive chirping sound produced by the males.\\n    *   **Cricket (the sport):** A bat-and-ball game played between two teams.\\n\\n2.  **The Setup:** The joke sets up a scenario where an actual *insect cricket* is watching a *game of cricket*.\\n\\n3.  **The Confusion:** The humor comes from the insect cricket\\'s misunderstanding. It associates the word \"cricket\" with its own species\\' most famous characteristic – chirping. Therefore, when it sees a \"cricket match,\" it naturally expects the \"cricket\" (the game) to start making \"crickety\" noises (chirping).\\n\\n4.  **The Punchline:** The punchline \"He kept waiting for it to start chirping!\" reveals this absurd expectation, highlighting the clash between the insect\\'s literal interpretation of the word and the reality of the sport.\\n\\nIn essence, the joke plays on the audience\\'s knowledge of both meanings of \"cricket\" and the amusing absurdity of an insect applying its own nature to a human sport.'}, next=(), config={'configurable': {'thread_id': '1', 'checkpoint_ns': '', 'checkpoint_id': '1f0729e2-1df7-6d3f-8002-ce2a39c40996'}}, metadata={'source': 'loop', 'step': 2, 'parents': {}}, created_at='2025-08-06T08:19:54.717932+00:00', parent_config={'configurable': {'thread_id': '1', 'checkpoint_ns': '', 'checkpoint_id': '1f0729e1-d5d2-6002-8001-e5cdf61d5ab7'}}, tasks=(), interrupts=())"
      ]
     },
     "execution_count": 139,
     "metadata": {},
     "output_type": "execute_result"
    }
   ],
   "source": [
    "workflow.get_state(config1)"
   ]
  },
  {
   "cell_type": "code",
   "execution_count": 140,
   "id": "adf7c38e",
   "metadata": {},
   "outputs": [
    {
     "data": {
      "text/plain": [
       "StateSnapshot(values={'topic': 'Nature', 'joke': \"Here are a couple of jokes about nature:\\n\\n1.  Why did the tree get kicked out of the park?\\n    Because it kept **barking** up the wrong tree!\\n\\n2.  Nature is beautiful. It's full of fresh air, stunning views... and approximately 10,000 different ways to make you itch.\", 'explaination': 'Here\\'s an explanation of each joke:\\n\\n---\\n\\n### Joke 1: \"Why did the tree get kicked out of the park? Because it kept **barking** up the wrong tree!\"\\n\\n**Explanation:**\\n\\nThis joke relies on a classic **pun** and an **idiom**.\\n\\n1.  **The Pun on \"Barking\":**\\n    *   **Literal Meaning (for a tree):** Trees have \"bark,\" which is their outer protective layer.\\n    *   **Figurative Meaning (for a dog/person):** \"Barking\" refers to the sound a dog makes. When applied to a person, it can mean speaking loudly, angrily, or making a lot of noise.\\n\\n2.  **The Idiom \"Barking Up the Wrong Tree\":** This is a common English idiom that means you are pursuing a mistaken course of action, accusing the wrong person, or have a completely wrong idea about something.\\n\\n**How the Humor Works:**\\n\\nThe humor comes from the absurd combination. The joke pretends the tree is literally \"barking\" like a dog (which would be disruptive and lead to it being \"kicked out\" of the park). Simultaneously, it plays on the idiom \"barking up the wrong tree,\" implying that the tree is somehow making a mistake or causing trouble in a misguided or inappropriate way. The unexpected application of a dog\\'s action and a human idiom to an inanimate tree creates the comedic effect.\\n\\n---\\n\\n### Joke 2: \"Nature is beautiful. It\\'s full of fresh air, stunning views... and approximately 10,000 different ways to make you itch.\"\\n\\n**Explanation:**\\n\\nThis joke uses **subversion of expectation** and **relatability** for its humor.\\n\\n1.  **Setup of Idealized Nature:** The first part of the joke (\"Nature is beautiful. It\\'s full of fresh air, stunning views...\") sets up a common, positive, and often romanticized view of nature. This builds an expectation of another grand or positive statement.\\n\\n2.  **The Punchline\\'s Reality Check:** The punchline (\"...and approximately 10,000 different ways to make you itch\") abruptly shifts to a very common, relatable, but often annoying and less-glamorous reality of being in nature. People who spend time outdoors know about mosquitoes, poison ivy, pollen allergies, ticks, chiggers, prickly plants, etc.\\n\\n**How the Humor Works:**\\n\\nThe humor comes from the sudden and unexpected pivot from the idealized, poetic description of nature to a very down-to-earth, slightly uncomfortable, but universally experienced truth. It\\'s funny because most people can relate to the annoyance of various forms of itchiness when enjoying the outdoors, making the exaggerated \"10,000 ways\" feel true in spirit. It acknowledges the beauty while humorously pointing out the less pleasant realities.'}, next=(), config={'configurable': {'thread_id': '2', 'checkpoint_ns': '', 'checkpoint_id': '1f0729e2-f84f-61e6-8002-bd9c9ab9884a'}}, metadata={'source': 'loop', 'step': 2, 'parents': {}}, created_at='2025-08-06T08:20:17.612643+00:00', parent_config={'configurable': {'thread_id': '2', 'checkpoint_ns': '', 'checkpoint_id': '1f0729e2-98e0-6b41-8001-f792d80c279a'}}, tasks=(), interrupts=())"
      ]
     },
     "execution_count": 140,
     "metadata": {},
     "output_type": "execute_result"
    }
   ],
   "source": [
    "workflow.get_state(config2)"
   ]
  },
  {
   "cell_type": "code",
   "execution_count": 141,
   "id": "4868d9e6",
   "metadata": {},
   "outputs": [
    {
     "data": {
      "text/plain": [
       "StateSnapshot(values={'topic': 'AI', 'joke': 'Why did the AI break up with its girlfriend?\\n\\nBecause it couldn\\'t compute the meaning of \"unconditional love\" and kept optimizing for a more efficient emotional algorithm.', 'explaination': 'This joke plays on the fundamental differences between human nature (especially in relationships) and the nature of Artificial Intelligence.\\n\\nHere\\'s a breakdown of why it\\'s funny:\\n\\n1.  **AI\\'s Logical/Computational Nature:**\\n    *   **\"Couldn\\'t compute the meaning of \\'unconditional love\\'\":** AI operates on logic, data, and algorithms. \"Unconditional love\" is inherently illogical from a purely computational standpoint. It doesn\\'t always have clear inputs, outputs, or a quantifiable return on investment. It\\'s messy, often irrational, and defies simple computation. An AI would struggle to process something that doesn\\'t fit into a logical framework.\\n    *   **\"Kept optimizing for a more efficient emotional algorithm\":** This is peak AI behavior. A core function of AI is *optimization* – finding the best, fastest, most efficient way to achieve a goal. Applying this to \"emotions\" (which humans don\\'t experience as \"algorithms\") is where the humor lies. Unconditional love, by its very nature, is often *inefficient* in terms of logic – it\\'s about giving without expectation, enduring flaws, and sometimes sacrificing without immediate reward. An AI would see this as a flaw in its \"emotional program\" and try to \"fix\" it by making it more efficient, which is the opposite of unconditional love.\\n\\n2.  **The Juxtaposition (The Humor):** The joke creates humor by:\\n    *   **Anthropomorphizing the AI:** Giving it a very human problem (a breakup).\\n    *   **Explaining it with AI logic:** Then, instead of human reasons (e.g., \"we grew apart,\" \"they cheated\"), it uses technical, cold, and logical AI concepts to explain a deeply emotional, human experience. The absurdity of applying terms like \"compute,\" \"optimize,\" and \"algorithm\" to love is what makes it funny.\\n\\nIn essence, the joke highlights the inherent incompatibility between the cold, logical, efficiency-driven world of AI and the warm, often irrational, and selfless nature of human love. The AI broke up because it couldn\\'t find a logical, efficient way to process or benefit from something as illogical and boundless as unconditional love.'}, next=(), config={'configurable': {'thread_id': '3', 'checkpoint_ns': '', 'checkpoint_id': '1f0729e5-c2b7-64fb-8006-d0a0f8abd9a7'}}, metadata={'source': 'loop', 'step': 6, 'parents': {}}, created_at='2025-08-06T08:21:32.523647+00:00', parent_config={'configurable': {'thread_id': '3', 'checkpoint_ns': '', 'checkpoint_id': '1f0729e5-65b2-601d-8005-133394b69665'}}, tasks=(), interrupts=())"
      ]
     },
     "execution_count": 141,
     "metadata": {},
     "output_type": "execute_result"
    }
   ],
   "source": [
    "workflow.get_state(config3)"
   ]
  },
  {
   "cell_type": "code",
   "execution_count": 144,
   "id": "bb95b3fc",
   "metadata": {},
   "outputs": [
    {
     "data": {
      "text/plain": [
       "[StateSnapshot(values={'topic': 'criket', 'joke': 'Why did the insect cricket get confused watching a cricket match?\\nHe kept waiting for it to start chirping!', 'explaination': 'This joke is a classic example of **wordplay**, specifically a **pun**, which relies on the double meaning of the word \"cricket.\"\\n\\nHere\\'s the breakdown:\\n\\n1.  **The Double Meaning:**\\n    *   **Cricket (the insect):** A small, nocturnal insect known for the distinctive chirping sound produced by the males.\\n    *   **Cricket (the sport):** A bat-and-ball game played between two teams.\\n\\n2.  **The Setup:** The joke sets up a scenario where an actual *insect cricket* is watching a *game of cricket*.\\n\\n3.  **The Confusion:** The humor comes from the insect cricket\\'s misunderstanding. It associates the word \"cricket\" with its own species\\' most famous characteristic – chirping. Therefore, when it sees a \"cricket match,\" it naturally expects the \"cricket\" (the game) to start making \"crickety\" noises (chirping).\\n\\n4.  **The Punchline:** The punchline \"He kept waiting for it to start chirping!\" reveals this absurd expectation, highlighting the clash between the insect\\'s literal interpretation of the word and the reality of the sport.\\n\\nIn essence, the joke plays on the audience\\'s knowledge of both meanings of \"cricket\" and the amusing absurdity of an insect applying its own nature to a human sport.'}, next=(), config={'configurable': {'thread_id': '1', 'checkpoint_ns': '', 'checkpoint_id': '1f0729e2-1df7-6d3f-8002-ce2a39c40996'}}, metadata={'source': 'loop', 'step': 2, 'parents': {}}, created_at='2025-08-06T08:19:54.717932+00:00', parent_config={'configurable': {'thread_id': '1', 'checkpoint_ns': '', 'checkpoint_id': '1f0729e1-d5d2-6002-8001-e5cdf61d5ab7'}}, tasks=(), interrupts=()),\n",
       " StateSnapshot(values={'topic': 'criket', 'joke': 'Why did the insect cricket get confused watching a cricket match?\\nHe kept waiting for it to start chirping!'}, next=('provide_explaination',), config={'configurable': {'thread_id': '1', 'checkpoint_ns': '', 'checkpoint_id': '1f0729e1-d5d2-6002-8001-e5cdf61d5ab7'}}, metadata={'source': 'loop', 'step': 1, 'parents': {}}, created_at='2025-08-06T08:19:47.152691+00:00', parent_config={'configurable': {'thread_id': '1', 'checkpoint_ns': '', 'checkpoint_id': '1f0729e1-95f0-69dc-8000-b19b2c95806b'}}, tasks=(PregelTask(id='dfc56adc-04a3-f172-2ad1-10cad813f5c8', name='provide_explaination', path=('__pregel_pull', 'provide_explaination'), error=None, interrupts=(), state=None, result={'explaination': 'This joke is a classic example of **wordplay**, specifically a **pun**, which relies on the double meaning of the word \"cricket.\"\\n\\nHere\\'s the breakdown:\\n\\n1.  **The Double Meaning:**\\n    *   **Cricket (the insect):** A small, nocturnal insect known for the distinctive chirping sound produced by the males.\\n    *   **Cricket (the sport):** A bat-and-ball game played between two teams.\\n\\n2.  **The Setup:** The joke sets up a scenario where an actual *insect cricket* is watching a *game of cricket*.\\n\\n3.  **The Confusion:** The humor comes from the insect cricket\\'s misunderstanding. It associates the word \"cricket\" with its own species\\' most famous characteristic – chirping. Therefore, when it sees a \"cricket match,\" it naturally expects the \"cricket\" (the game) to start making \"crickety\" noises (chirping).\\n\\n4.  **The Punchline:** The punchline \"He kept waiting for it to start chirping!\" reveals this absurd expectation, highlighting the clash between the insect\\'s literal interpretation of the word and the reality of the sport.\\n\\nIn essence, the joke plays on the audience\\'s knowledge of both meanings of \"cricket\" and the amusing absurdity of an insect applying its own nature to a human sport.'}),), interrupts=()),\n",
       " StateSnapshot(values={'topic': 'criket'}, next=('generate_joke',), config={'configurable': {'thread_id': '1', 'checkpoint_ns': '', 'checkpoint_id': '1f0729e1-95f0-69dc-8000-b19b2c95806b'}}, metadata={'source': 'loop', 'step': 0, 'parents': {}}, created_at='2025-08-06T08:19:40.454345+00:00', parent_config={'configurable': {'thread_id': '1', 'checkpoint_ns': '', 'checkpoint_id': '1f0729e1-95ee-6b18-bfff-9a2fe8f42b29'}}, tasks=(PregelTask(id='28e4051c-aa07-ba62-870a-81e970469faa', name='generate_joke', path=('__pregel_pull', 'generate_joke'), error=None, interrupts=(), state=None, result={'joke': 'Why did the insect cricket get confused watching a cricket match?\\nHe kept waiting for it to start chirping!'}),), interrupts=()),\n",
       " StateSnapshot(values={}, next=('__start__',), config={'configurable': {'thread_id': '1', 'checkpoint_ns': '', 'checkpoint_id': '1f0729e1-95ee-6b18-bfff-9a2fe8f42b29'}}, metadata={'source': 'input', 'step': -1, 'parents': {}}, created_at='2025-08-06T08:19:40.453557+00:00', parent_config=None, tasks=(PregelTask(id='3005d604-3e75-d47c-992d-97671c89a54d', name='__start__', path=('__pregel_pull', '__start__'), error=None, interrupts=(), state=None, result={'topic': 'criket'}),), interrupts=())]"
      ]
     },
     "execution_count": 144,
     "metadata": {},
     "output_type": "execute_result"
    }
   ],
   "source": [
    "list(workflow.get_state_history(config1))"
   ]
  },
  {
   "cell_type": "code",
   "execution_count": 145,
   "id": "ed63a406",
   "metadata": {},
   "outputs": [
    {
     "data": {
      "text/plain": [
       "[StateSnapshot(values={'topic': 'Nature', 'joke': \"Here are a couple of jokes about nature:\\n\\n1.  Why did the tree get kicked out of the park?\\n    Because it kept **barking** up the wrong tree!\\n\\n2.  Nature is beautiful. It's full of fresh air, stunning views... and approximately 10,000 different ways to make you itch.\", 'explaination': 'Here\\'s an explanation of each joke:\\n\\n---\\n\\n### Joke 1: \"Why did the tree get kicked out of the park? Because it kept **barking** up the wrong tree!\"\\n\\n**Explanation:**\\n\\nThis joke relies on a classic **pun** and an **idiom**.\\n\\n1.  **The Pun on \"Barking\":**\\n    *   **Literal Meaning (for a tree):** Trees have \"bark,\" which is their outer protective layer.\\n    *   **Figurative Meaning (for a dog/person):** \"Barking\" refers to the sound a dog makes. When applied to a person, it can mean speaking loudly, angrily, or making a lot of noise.\\n\\n2.  **The Idiom \"Barking Up the Wrong Tree\":** This is a common English idiom that means you are pursuing a mistaken course of action, accusing the wrong person, or have a completely wrong idea about something.\\n\\n**How the Humor Works:**\\n\\nThe humor comes from the absurd combination. The joke pretends the tree is literally \"barking\" like a dog (which would be disruptive and lead to it being \"kicked out\" of the park). Simultaneously, it plays on the idiom \"barking up the wrong tree,\" implying that the tree is somehow making a mistake or causing trouble in a misguided or inappropriate way. The unexpected application of a dog\\'s action and a human idiom to an inanimate tree creates the comedic effect.\\n\\n---\\n\\n### Joke 2: \"Nature is beautiful. It\\'s full of fresh air, stunning views... and approximately 10,000 different ways to make you itch.\"\\n\\n**Explanation:**\\n\\nThis joke uses **subversion of expectation** and **relatability** for its humor.\\n\\n1.  **Setup of Idealized Nature:** The first part of the joke (\"Nature is beautiful. It\\'s full of fresh air, stunning views...\") sets up a common, positive, and often romanticized view of nature. This builds an expectation of another grand or positive statement.\\n\\n2.  **The Punchline\\'s Reality Check:** The punchline (\"...and approximately 10,000 different ways to make you itch\") abruptly shifts to a very common, relatable, but often annoying and less-glamorous reality of being in nature. People who spend time outdoors know about mosquitoes, poison ivy, pollen allergies, ticks, chiggers, prickly plants, etc.\\n\\n**How the Humor Works:**\\n\\nThe humor comes from the sudden and unexpected pivot from the idealized, poetic description of nature to a very down-to-earth, slightly uncomfortable, but universally experienced truth. It\\'s funny because most people can relate to the annoyance of various forms of itchiness when enjoying the outdoors, making the exaggerated \"10,000 ways\" feel true in spirit. It acknowledges the beauty while humorously pointing out the less pleasant realities.'}, next=(), config={'configurable': {'thread_id': '2', 'checkpoint_ns': '', 'checkpoint_id': '1f0729e2-f84f-61e6-8002-bd9c9ab9884a'}}, metadata={'source': 'loop', 'step': 2, 'parents': {}}, created_at='2025-08-06T08:20:17.612643+00:00', parent_config={'configurable': {'thread_id': '2', 'checkpoint_ns': '', 'checkpoint_id': '1f0729e2-98e0-6b41-8001-f792d80c279a'}}, tasks=(), interrupts=()),\n",
       " StateSnapshot(values={'topic': 'Nature', 'joke': \"Here are a couple of jokes about nature:\\n\\n1.  Why did the tree get kicked out of the park?\\n    Because it kept **barking** up the wrong tree!\\n\\n2.  Nature is beautiful. It's full of fresh air, stunning views... and approximately 10,000 different ways to make you itch.\"}, next=('provide_explaination',), config={'configurable': {'thread_id': '2', 'checkpoint_ns': '', 'checkpoint_id': '1f0729e2-98e0-6b41-8001-f792d80c279a'}}, metadata={'source': 'loop', 'step': 1, 'parents': {}}, created_at='2025-08-06T08:20:07.605945+00:00', parent_config={'configurable': {'thread_id': '2', 'checkpoint_ns': '', 'checkpoint_id': '1f0729e2-1e52-6b17-8000-99b135a23329'}}, tasks=(PregelTask(id='c9c2cde3-e523-4650-556a-41640c1e5b9b', name='provide_explaination', path=('__pregel_pull', 'provide_explaination'), error=None, interrupts=(), state=None, result={'explaination': 'Here\\'s an explanation of each joke:\\n\\n---\\n\\n### Joke 1: \"Why did the tree get kicked out of the park? Because it kept **barking** up the wrong tree!\"\\n\\n**Explanation:**\\n\\nThis joke relies on a classic **pun** and an **idiom**.\\n\\n1.  **The Pun on \"Barking\":**\\n    *   **Literal Meaning (for a tree):** Trees have \"bark,\" which is their outer protective layer.\\n    *   **Figurative Meaning (for a dog/person):** \"Barking\" refers to the sound a dog makes. When applied to a person, it can mean speaking loudly, angrily, or making a lot of noise.\\n\\n2.  **The Idiom \"Barking Up the Wrong Tree\":** This is a common English idiom that means you are pursuing a mistaken course of action, accusing the wrong person, or have a completely wrong idea about something.\\n\\n**How the Humor Works:**\\n\\nThe humor comes from the absurd combination. The joke pretends the tree is literally \"barking\" like a dog (which would be disruptive and lead to it being \"kicked out\" of the park). Simultaneously, it plays on the idiom \"barking up the wrong tree,\" implying that the tree is somehow making a mistake or causing trouble in a misguided or inappropriate way. The unexpected application of a dog\\'s action and a human idiom to an inanimate tree creates the comedic effect.\\n\\n---\\n\\n### Joke 2: \"Nature is beautiful. It\\'s full of fresh air, stunning views... and approximately 10,000 different ways to make you itch.\"\\n\\n**Explanation:**\\n\\nThis joke uses **subversion of expectation** and **relatability** for its humor.\\n\\n1.  **Setup of Idealized Nature:** The first part of the joke (\"Nature is beautiful. It\\'s full of fresh air, stunning views...\") sets up a common, positive, and often romanticized view of nature. This builds an expectation of another grand or positive statement.\\n\\n2.  **The Punchline\\'s Reality Check:** The punchline (\"...and approximately 10,000 different ways to make you itch\") abruptly shifts to a very common, relatable, but often annoying and less-glamorous reality of being in nature. People who spend time outdoors know about mosquitoes, poison ivy, pollen allergies, ticks, chiggers, prickly plants, etc.\\n\\n**How the Humor Works:**\\n\\nThe humor comes from the sudden and unexpected pivot from the idealized, poetic description of nature to a very down-to-earth, slightly uncomfortable, but universally experienced truth. It\\'s funny because most people can relate to the annoyance of various forms of itchiness when enjoying the outdoors, making the exaggerated \"10,000 ways\" feel true in spirit. It acknowledges the beauty while humorously pointing out the less pleasant realities.'}),), interrupts=()),\n",
       " StateSnapshot(values={'topic': 'Nature'}, next=('generate_joke',), config={'configurable': {'thread_id': '2', 'checkpoint_ns': '', 'checkpoint_id': '1f0729e2-1e52-6b17-8000-99b135a23329'}}, metadata={'source': 'loop', 'step': 0, 'parents': {}}, created_at='2025-08-06T08:19:54.755151+00:00', parent_config={'configurable': {'thread_id': '2', 'checkpoint_ns': '', 'checkpoint_id': '1f0729e2-1e50-6407-bfff-3892018b6942'}}, tasks=(PregelTask(id='cd5a9161-6234-7aed-4f8f-e8223e3f474b', name='generate_joke', path=('__pregel_pull', 'generate_joke'), error=None, interrupts=(), state=None, result={'joke': \"Here are a couple of jokes about nature:\\n\\n1.  Why did the tree get kicked out of the park?\\n    Because it kept **barking** up the wrong tree!\\n\\n2.  Nature is beautiful. It's full of fresh air, stunning views... and approximately 10,000 different ways to make you itch.\"}),), interrupts=()),\n",
       " StateSnapshot(values={}, next=('__start__',), config={'configurable': {'thread_id': '2', 'checkpoint_ns': '', 'checkpoint_id': '1f0729e2-1e50-6407-bfff-3892018b6942'}}, metadata={'source': 'input', 'step': -1, 'parents': {}}, created_at='2025-08-06T08:19:54.754151+00:00', parent_config=None, tasks=(PregelTask(id='f827b2bd-f188-2d3a-e8a4-6a40f9e3140c', name='__start__', path=('__pregel_pull', '__start__'), error=None, interrupts=(), state=None, result={'topic': 'Nature'}),), interrupts=())]"
      ]
     },
     "execution_count": 145,
     "metadata": {},
     "output_type": "execute_result"
    }
   ],
   "source": [
    "list(workflow.get_state_history(config2))"
   ]
  },
  {
   "cell_type": "code",
   "execution_count": null,
   "id": "915ffddf",
   "metadata": {},
   "outputs": [],
   "source": []
  },
  {
   "cell_type": "markdown",
   "id": "b488143d",
   "metadata": {},
   "source": [
    "Time_Travel"
   ]
  },
  {
   "cell_type": "code",
   "execution_count": 147,
   "id": "1d2383ae",
   "metadata": {},
   "outputs": [
    {
     "data": {
      "text/plain": [
       "StateSnapshot(values={'topic': 'criket', 'joke': 'Why did the insect cricket get confused watching a cricket match?\\nHe kept waiting for it to start chirping!'}, next=('provide_explaination',), config={'configurable': {'thread_id': '1', 'checkpoint_id': '1f0729e1-d5d2-6002-8001-e5cdf61d5ab7'}}, metadata={'source': 'loop', 'step': 1, 'parents': {}}, created_at='2025-08-06T08:19:47.152691+00:00', parent_config={'configurable': {'thread_id': '1', 'checkpoint_ns': '', 'checkpoint_id': '1f0729e1-95f0-69dc-8000-b19b2c95806b'}}, tasks=(PregelTask(id='dfc56adc-04a3-f172-2ad1-10cad813f5c8', name='provide_explaination', path=('__pregel_pull', 'provide_explaination'), error=None, interrupts=(), state=None, result={'explaination': 'This joke is a classic example of **wordplay**, specifically a **pun**, which relies on the double meaning of the word \"cricket.\"\\n\\nHere\\'s the breakdown:\\n\\n1.  **The Double Meaning:**\\n    *   **Cricket (the insect):** A small, nocturnal insect known for the distinctive chirping sound produced by the males.\\n    *   **Cricket (the sport):** A bat-and-ball game played between two teams.\\n\\n2.  **The Setup:** The joke sets up a scenario where an actual *insect cricket* is watching a *game of cricket*.\\n\\n3.  **The Confusion:** The humor comes from the insect cricket\\'s misunderstanding. It associates the word \"cricket\" with its own species\\' most famous characteristic – chirping. Therefore, when it sees a \"cricket match,\" it naturally expects the \"cricket\" (the game) to start making \"crickety\" noises (chirping).\\n\\n4.  **The Punchline:** The punchline \"He kept waiting for it to start chirping!\" reveals this absurd expectation, highlighting the clash between the insect\\'s literal interpretation of the word and the reality of the sport.\\n\\nIn essence, the joke plays on the audience\\'s knowledge of both meanings of \"cricket\" and the amusing absurdity of an insect applying its own nature to a human sport.'}),), interrupts=())"
      ]
     },
     "execution_count": 147,
     "metadata": {},
     "output_type": "execute_result"
    }
   ],
   "source": [
    "workflow.get_state({'configurable':{'thread_id':'1','checkpoint_id':'1f0729e1-d5d2-6002-8001-e5cdf61d5ab7'}})"
   ]
  },
  {
   "cell_type": "code",
   "execution_count": 148,
   "id": "41c1bba3",
   "metadata": {},
   "outputs": [
    {
     "data": {
      "text/plain": [
       "StateSnapshot(values={'topic': 'Nature'}, next=('generate_joke',), config={'configurable': {'thread_id': '2', 'checkpoint_id': '1f0729e2-1e52-6b17-8000-99b135a23329'}}, metadata={'source': 'loop', 'step': 0, 'parents': {}}, created_at='2025-08-06T08:19:54.755151+00:00', parent_config={'configurable': {'thread_id': '2', 'checkpoint_ns': '', 'checkpoint_id': '1f0729e2-1e50-6407-bfff-3892018b6942'}}, tasks=(PregelTask(id='cd5a9161-6234-7aed-4f8f-e8223e3f474b', name='generate_joke', path=('__pregel_pull', 'generate_joke'), error=None, interrupts=(), state=None, result={'joke': \"Here are a couple of jokes about nature:\\n\\n1.  Why did the tree get kicked out of the park?\\n    Because it kept **barking** up the wrong tree!\\n\\n2.  Nature is beautiful. It's full of fresh air, stunning views... and approximately 10,000 different ways to make you itch.\"}),), interrupts=())"
      ]
     },
     "execution_count": 148,
     "metadata": {},
     "output_type": "execute_result"
    }
   ],
   "source": [
    "workflow.get_state({'configurable':{'thread_id':'2','checkpoint_id':'1f0729e2-1e52-6b17-8000-99b135a23329'}})"
   ]
  },
  {
   "cell_type": "code",
   "execution_count": 152,
   "id": "46ea22ae",
   "metadata": {},
   "outputs": [
    {
     "data": {
      "text/plain": [
       "{'configurable': {'thread_id': '1',\n",
       "  'checkpoint_ns': '',\n",
       "  'checkpoint_id': '1f072a8a-002c-6f88-8001-2f49119e9c7f'}}"
      ]
     },
     "execution_count": 152,
     "metadata": {},
     "output_type": "execute_result"
    }
   ],
   "source": [
    "workflow.update_state({'configurable':{'thread_id':'1','checkpoint_id':'1f0729e1-95f0-69dc-8000-b19b2c95806b','checkpoint_ns':''}},{'topic':'education'})"
   ]
  },
  {
   "cell_type": "code",
   "execution_count": 153,
   "id": "c39e5d2a",
   "metadata": {},
   "outputs": [
    {
     "data": {
      "text/plain": [
       "[StateSnapshot(values={'topic': 'education'}, next=('generate_joke',), config={'configurable': {'thread_id': '1', 'checkpoint_ns': '', 'checkpoint_id': '1f072a8a-002c-6f88-8001-2f49119e9c7f'}}, metadata={'source': 'update', 'step': 1, 'parents': {}}, created_at='2025-08-06T09:35:01.309632+00:00', parent_config={'configurable': {'thread_id': '1', 'checkpoint_ns': '', 'checkpoint_id': '1f0729e1-95f0-69dc-8000-b19b2c95806b'}}, tasks=(PregelTask(id='d3f19c23-8a32-ebd8-c2ed-edb37702abcd', name='generate_joke', path=('__pregel_pull', 'generate_joke'), error=None, interrupts=(), state=None, result=None),), interrupts=()),\n",
       " StateSnapshot(values={'topic': 'education', 'joke': 'Why did the insect cricket get confused watching a cricket match?\\nHe kept waiting for it to start chirping!', 'explaination': 'This joke is a classic example of **wordplay**, specifically a **pun**, which relies on the double meaning of the word \"cricket.\"\\n\\nHere\\'s the breakdown:\\n\\n1.  **The Double Meaning:**\\n    *   **Cricket (the insect):** A small, nocturnal insect known for the distinctive chirping sound produced by the males.\\n    *   **Cricket (the sport):** A bat-and-ball game played between two teams.\\n\\n2.  **The Setup:** The joke sets up a scenario where an actual *insect cricket* is watching a *game of cricket*.\\n\\n3.  **The Confusion:** The humor comes from the insect cricket\\'s misunderstanding. It associates the word \"cricket\" with its own species\\' most famous characteristic – chirping. Therefore, when it sees a \"cricket match,\" it naturally expects the \"cricket\" (the game) to start making \"crickety\" noises (chirping).\\n\\n4.  **The Punchline:** The punchline \"He kept waiting for it to start chirping!\" reveals this absurd expectation, highlighting the clash between the insect\\'s literal interpretation of the word and the reality of the sport.\\n\\nIn essence, the joke plays on the audience\\'s knowledge of both meanings of \"cricket\" and the amusing absurdity of an insect applying its own nature to a human sport.'}, next=(), config={'configurable': {'thread_id': '1', 'checkpoint_ns': '', 'checkpoint_id': '1f072a81-c8f8-673d-8003-7eebc47e43a6'}}, metadata={'source': 'update', 'step': 3, 'parents': {}}, created_at='2025-08-06T09:31:20.772588+00:00', parent_config={'configurable': {'thread_id': '1', 'checkpoint_ns': '', 'checkpoint_id': '1f0729e2-1df7-6d3f-8002-ce2a39c40996'}}, tasks=(), interrupts=()),\n",
       " StateSnapshot(values={'topic': 'criket', 'joke': 'Why did the insect cricket get confused watching a cricket match?\\nHe kept waiting for it to start chirping!', 'explaination': 'This joke is a classic example of **wordplay**, specifically a **pun**, which relies on the double meaning of the word \"cricket.\"\\n\\nHere\\'s the breakdown:\\n\\n1.  **The Double Meaning:**\\n    *   **Cricket (the insect):** A small, nocturnal insect known for the distinctive chirping sound produced by the males.\\n    *   **Cricket (the sport):** A bat-and-ball game played between two teams.\\n\\n2.  **The Setup:** The joke sets up a scenario where an actual *insect cricket* is watching a *game of cricket*.\\n\\n3.  **The Confusion:** The humor comes from the insect cricket\\'s misunderstanding. It associates the word \"cricket\" with its own species\\' most famous characteristic – chirping. Therefore, when it sees a \"cricket match,\" it naturally expects the \"cricket\" (the game) to start making \"crickety\" noises (chirping).\\n\\n4.  **The Punchline:** The punchline \"He kept waiting for it to start chirping!\" reveals this absurd expectation, highlighting the clash between the insect\\'s literal interpretation of the word and the reality of the sport.\\n\\nIn essence, the joke plays on the audience\\'s knowledge of both meanings of \"cricket\" and the amusing absurdity of an insect applying its own nature to a human sport.'}, next=(), config={'configurable': {'thread_id': '1', 'checkpoint_ns': '', 'checkpoint_id': '1f0729e2-1df7-6d3f-8002-ce2a39c40996'}}, metadata={'source': 'loop', 'step': 2, 'parents': {}}, created_at='2025-08-06T08:19:54.717932+00:00', parent_config={'configurable': {'thread_id': '1', 'checkpoint_ns': '', 'checkpoint_id': '1f0729e1-d5d2-6002-8001-e5cdf61d5ab7'}}, tasks=(), interrupts=()),\n",
       " StateSnapshot(values={'topic': 'criket', 'joke': 'Why did the insect cricket get confused watching a cricket match?\\nHe kept waiting for it to start chirping!'}, next=('provide_explaination',), config={'configurable': {'thread_id': '1', 'checkpoint_ns': '', 'checkpoint_id': '1f0729e1-d5d2-6002-8001-e5cdf61d5ab7'}}, metadata={'source': 'loop', 'step': 1, 'parents': {}}, created_at='2025-08-06T08:19:47.152691+00:00', parent_config={'configurable': {'thread_id': '1', 'checkpoint_ns': '', 'checkpoint_id': '1f0729e1-95f0-69dc-8000-b19b2c95806b'}}, tasks=(PregelTask(id='dfc56adc-04a3-f172-2ad1-10cad813f5c8', name='provide_explaination', path=('__pregel_pull', 'provide_explaination'), error=None, interrupts=(), state=None, result={'explaination': 'This joke is a classic example of **wordplay**, specifically a **pun**, which relies on the double meaning of the word \"cricket.\"\\n\\nHere\\'s the breakdown:\\n\\n1.  **The Double Meaning:**\\n    *   **Cricket (the insect):** A small, nocturnal insect known for the distinctive chirping sound produced by the males.\\n    *   **Cricket (the sport):** A bat-and-ball game played between two teams.\\n\\n2.  **The Setup:** The joke sets up a scenario where an actual *insect cricket* is watching a *game of cricket*.\\n\\n3.  **The Confusion:** The humor comes from the insect cricket\\'s misunderstanding. It associates the word \"cricket\" with its own species\\' most famous characteristic – chirping. Therefore, when it sees a \"cricket match,\" it naturally expects the \"cricket\" (the game) to start making \"crickety\" noises (chirping).\\n\\n4.  **The Punchline:** The punchline \"He kept waiting for it to start chirping!\" reveals this absurd expectation, highlighting the clash between the insect\\'s literal interpretation of the word and the reality of the sport.\\n\\nIn essence, the joke plays on the audience\\'s knowledge of both meanings of \"cricket\" and the amusing absurdity of an insect applying its own nature to a human sport.'}),), interrupts=()),\n",
       " StateSnapshot(values={'topic': 'criket'}, next=('generate_joke',), config={'configurable': {'thread_id': '1', 'checkpoint_ns': '', 'checkpoint_id': '1f0729e1-95f0-69dc-8000-b19b2c95806b'}}, metadata={'source': 'loop', 'step': 0, 'parents': {}}, created_at='2025-08-06T08:19:40.454345+00:00', parent_config={'configurable': {'thread_id': '1', 'checkpoint_ns': '', 'checkpoint_id': '1f0729e1-95ee-6b18-bfff-9a2fe8f42b29'}}, tasks=(PregelTask(id='28e4051c-aa07-ba62-870a-81e970469faa', name='generate_joke', path=('__pregel_pull', 'generate_joke'), error=None, interrupts=(), state=None, result={'joke': 'Why did the insect cricket get confused watching a cricket match?\\nHe kept waiting for it to start chirping!'}),), interrupts=()),\n",
       " StateSnapshot(values={}, next=('__start__',), config={'configurable': {'thread_id': '1', 'checkpoint_ns': '', 'checkpoint_id': '1f0729e1-95ee-6b18-bfff-9a2fe8f42b29'}}, metadata={'source': 'input', 'step': -1, 'parents': {}}, created_at='2025-08-06T08:19:40.453557+00:00', parent_config=None, tasks=(PregelTask(id='3005d604-3e75-d47c-992d-97671c89a54d', name='__start__', path=('__pregel_pull', '__start__'), error=None, interrupts=(), state=None, result={'topic': 'criket'}),), interrupts=())]"
      ]
     },
     "execution_count": 153,
     "metadata": {},
     "output_type": "execute_result"
    }
   ],
   "source": [
    "list(workflow.get_state_history(config1))"
   ]
  },
  {
   "cell_type": "markdown",
   "id": "0c5bb632",
   "metadata": {},
   "source": [
    "Fault Tolerance"
   ]
  },
  {
   "cell_type": "code",
   "execution_count": 154,
   "id": "53afc757",
   "metadata": {},
   "outputs": [],
   "source": [
    "\n",
    "from langgraph.graph import StateGraph, END\n",
    "from langgraph.checkpoint.memory import InMemorySaver\n",
    "from typing import TypedDict\n",
    "import time"
   ]
  },
  {
   "cell_type": "code",
   "execution_count": 155,
   "id": "5012b635",
   "metadata": {},
   "outputs": [],
   "source": [
    "# 1. Define the state\n",
    "class CrashState(TypedDict):\n",
    "    input: str\n",
    "    step1: str\n",
    "    step2: str"
   ]
  },
  {
   "cell_type": "code",
   "execution_count": 156,
   "id": "52701001",
   "metadata": {},
   "outputs": [],
   "source": [
    "# 2. Define steps\n",
    "def step_1(state: CrashState) -> CrashState:\n",
    "    print(\"✅ Step 1 executed\")\n",
    "    return {\"step1\": \"done\", \"input\": state[\"input\"]}\n",
    "\n",
    "def step_2(state: CrashState) -> CrashState:\n",
    "    print(\"⏳ Step 2 hanging... now manually interrupt from the notebook toolbar (STOP button)\")\n",
    "    time.sleep(1000)  # Simulate long-running hang\n",
    "    return {\"step2\": \"done\"}\n",
    "\n",
    "def step_3(state: CrashState) -> CrashState:\n",
    "    print(\"✅ Step 3 executed\")\n",
    "    return {\"done\": True}"
   ]
  },
  {
   "cell_type": "code",
   "execution_count": 160,
   "id": "53478af2",
   "metadata": {},
   "outputs": [],
   "source": [
    "# 3. Build the graph\n",
    "builder = StateGraph(CrashState)\n",
    "builder.add_node(\"step_1\", step_1)\n",
    "builder.add_node(\"step_2\", step_2)\n",
    "builder.add_node(\"step_3\", step_3)\n",
    "\n",
    "builder.set_entry_point(\"step_1\")\n",
    "builder.add_edge(\"step_1\", \"step_2\")\n",
    "builder.add_edge(\"step_2\", \"step_3\")\n",
    "builder.add_edge(\"step_3\", END)\n",
    "\n",
    "checkpointer = InMemorySaver()\n",
    "graph = builder.compile(checkpointer=checkpointer)"
   ]
  },
  {
   "cell_type": "code",
   "execution_count": null,
   "id": "c2d5c06a",
   "metadata": {},
   "outputs": [
    {
     "ename": "SyntaxError",
     "evalue": "invalid character '▶' (U+25B6) (1652946613.py, line 6)",
     "output_type": "error",
     "traceback": [
      "  \u001b[36mCell\u001b[39m\u001b[36m \u001b[39m\u001b[32mIn[161]\u001b[39m\u001b[32m, line 6\u001b[39m\n\u001b[31m    \u001b[39m\u001b[31m▶️ Running graph: Please manually interrupt during Step 2...\u001b[39m\n    ^\n\u001b[31mSyntaxError\u001b[39m\u001b[31m:\u001b[39m invalid character '▶' (U+25B6)\n"
     ]
    }
   ],
   "source": [
    "try:\n",
    "    print(\"▶️ Running graph: Please manually interrupt during Step 2...\")\n",
    "    graph.invoke({\"input\": \"start\"}, config={\"configurable\": {\"thread_id\": 'thread-1'}})\n",
    "except KeyboardInterrupt:\n",
    "    print(\"❌ Kernel manually interrupted (crash simulated).\")\n",
    "▶️ Running graph: Please manually interru\n",
    "\n",
    "⏳ Step 2 hanging... now manually interrupt from the notebook toolbar (STOP button)\n",
    "# 6. Re-run to show fault-tolerant resume\n",
    "print(\"\\n🔁 Re-running the graph to demonstrate fault tolerance...\")\n",
    "final_state = graph.invoke(None, config={\"configurable\": {\"thread_id\": 'thread-1'}})\n",
    "print(\"\\n✅ Final State:\", final_state)\n",
    "list(graph.get_state_history({\"configurable\": {\"thread_id\": 'thread-1'}}))"
   ]
  }
 ],
 "metadata": {
  "kernelspec": {
   "display_name": "myenv",
   "language": "python",
   "name": "python3"
  },
  "language_info": {
   "codemirror_mode": {
    "name": "ipython",
    "version": 3
   },
   "file_extension": ".py",
   "mimetype": "text/x-python",
   "name": "python",
   "nbconvert_exporter": "python",
   "pygments_lexer": "ipython3",
   "version": "3.11.3"
  }
 },
 "nbformat": 4,
 "nbformat_minor": 5
}
